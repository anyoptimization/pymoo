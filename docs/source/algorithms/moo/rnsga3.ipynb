{
 "cells": [
  {
   "cell_type": "raw",
   "metadata": {
    "raw_mimetype": "text/restructuredtext"
   },
   "source": [
    ".. _nb_rnsga3:"
   ]
  },
  {
   "cell_type": "markdown",
   "metadata": {},
   "source": [
    "# R-NSGA-III\n",
    "\n",
    "\n",
    "Implementation details of this algorithm can be found in <cite data-cite=\"rnsga3\"></cite>. The reference lines that should be used by this algorithm must be defined before it is executed. Commonly, the Das-Dennis method (implemented in UniformReferenceDirectionFactory) is used to sample reference directions uniformly.\n",
    "\n",
    "To generate the reference directions refer to the [R-NSGA-III paper](https://ieeexplore.ieee.org/abstract/document/8628819) where the following procedure is laid out in detail."
   ]
  },
  {
   "cell_type": "markdown",
   "metadata": {},
   "source": [
    "<div style=\"text-align: center;\">\n",
    "    <img src=\"https://github.com/anyoptimization/pymoo-data/blob/main/docs/images/rnsga3_sketch.png?raw=true\" width=\"250\">\n",
    "</div>"
   ]
  },
  {
   "cell_type": "markdown",
   "metadata": {},
   "source": [
    "The algorithm follows the general NSGA-III procedure with a modified survival selection operator. First, the non-dominated sorting is done as in NSGA-III. "
   ]
  },
  {
   "cell_type": "markdown",
   "metadata": {},
   "source": [
    "<div style=\"text-align: center;\">\n",
    "    <img src=\"https://github.com/anyoptimization/pymoo-data/blob/main/docs/images/nsga3_survival_1.png?raw=true\" width=\"250\">\n",
    "</div>"
   ]
  },
  {
   "cell_type": "markdown",
   "metadata": {},
   "source": [
    "Second, from the splitting front (final front), some solutions need to be selected. Solutions are associated with reference directions based on perpendicular distance, then solutions with smaller ASF values are preferred by selecting solutions from the underrepresented reference direction first. For this reason, when this algorithm converges, each reference line seeks to find a good representative non-dominated solution."
   ]
  },
  {
   "cell_type": "markdown",
   "metadata": {},
   "source": [
    "### Example"
   ]
  },
  {
   "cell_type": "code",
   "execution_count": null,
   "metadata": {
    "tags": []
   },
   "outputs": [],
   "source": [
    "import numpy as np\n",
    "\n",
    "from pymoo.algorithms.moo.rnsga3 import RNSGA3\n",
    "from pymoo.problems import get_problem\n",
    "from pymoo.optimize import minimize\n",
    "from pymoo.visualization.scatter import Scatter\n",
    "\n",
    "problem = get_problem(\"zdt1\")\n",
    "pf = problem.pareto_front()\n",
    "\n",
    "# Define reference points\n",
    "ref_points = np.array([[0.3, 0.4], [0.8, 0.5]])\n",
    "\n",
    "# Get Algorithm\n",
    "algorithm = RNSGA3(\n",
    "    ref_points=ref_points,\n",
    "    pop_per_ref_point=50,\n",
    "    mu=0.1)\n",
    "\n",
    "res = minimize(problem,\n",
    "               algorithm=algorithm,\n",
    "               termination=('n_gen', 300),\n",
    "               pf=pf,\n",
    "               seed=1,\n",
    "               verbose=False)\n",
    "\n",
    "reference_directions = res.algorithm.survival.ref_dirs\n",
    "\n",
    "plot = Scatter()\n",
    "plot.add(pf, label=\"pf\")\n",
    "plot.add(res.F, label=\"F\")\n",
    "plot.add(ref_points, label=\"ref_points\")\n",
    "plot.add(reference_directions, label=\"ref_dirs\")\n",
    "plot.show()"
   ]
  },
  {
   "cell_type": "code",
   "execution_count": null,
   "metadata": {
    "tags": []
   },
   "outputs": [],
   "source": [
    "from pymoo.util.reference_direction import UniformReferenceDirectionFactory\n",
    "\n",
    "# Get problem\n",
    "problem = get_problem(\"dtlz4\", n_var=12, n_obj=3)\n",
    "\n",
    "# Define reference points and reference directions\n",
    "ref_points = np.array([[1.0, 0.5, 0.2], [0.3, 0.2, 0.6]])\n",
    "ref_dirs = UniformReferenceDirectionFactory(3, n_points=91).do()\n",
    "pf = problem.pareto_front(ref_dirs)\n",
    "\n",
    "# Get Algorithm\n",
    "algorithm = RNSGA3(\n",
    "    ref_points=ref_points,\n",
    "    pop_per_ref_point=91,\n",
    "    mu=0.1)\n",
    "\n",
    "res = minimize(problem,\n",
    "               algorithm,\n",
    "               termination=('n_gen', 300),\n",
    "               pf=pf,\n",
    "               seed=1,\n",
    "               verbose=False)\n",
    "\n",
    "\n",
    "plot = Scatter()\n",
    "plot.add(pf, label=\"pf\")\n",
    "plot.add(res.F, label=\"F\")\n",
    "plot.add(ref_points, label=\"ref_points\")\n",
    "plot.show()"
   ]
  },
  {
   "cell_type": "markdown",
   "metadata": {
    "raw_mimetype": "text/restructuredtext"
   },
   "source": [
    "### API"
   ]
  },
  {
   "cell_type": "raw",
   "metadata": {
    "raw_mimetype": "text/restructuredtext"
   },
   "source": [
    ".. autoclass:: pymoo.algorithms.moo.rnsga3.RNSGA3\n",
    "    :noindex:"
   ]
  }
 ],
 "metadata": {
  "language_info": {
   "codemirror_mode": {
    "name": "ipython",
    "version": 3
   },
   "file_extension": ".py",
   "mimetype": "text/x-python",
   "name": "python",
   "nbconvert_exporter": "python",
   "pygments_lexer": "ipython3"
  }
 },
 "nbformat": 4,
 "nbformat_minor": 4
}
