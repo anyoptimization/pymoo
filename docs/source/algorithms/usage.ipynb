{
 "cells": [
  {
   "cell_type": "raw",
   "metadata": {
    "raw_mimetype": "text/restructuredtext",
    "tags": []
   },
   "source": [
    ".. _nb_algorithms_usage:"
   ]
  },
  {
   "cell_type": "markdown",
   "metadata": {},
   "source": [
    "# Usage"
   ]
  },
  {
   "cell_type": "raw",
   "metadata": {
    "raw_mimetype": "text/restructuredtext",
    "tags": []
   },
   "source": [
    ".. admonition:: Overview\n",
    "    :class: myOwnStyle\n",
    "    \n",
    "    - :ref:`Functional<nb_algorithms_func>` \n",
    "    - Object-Oriented Using :ref:`Next<nb_algorithms_next>` \n",
    "    - Object-Oriented Using :ref:`Ask And Tell<nb_algorithms_ask_and_tell>`\n"
   ]
  },
  {
   "cell_type": "raw",
   "metadata": {
    "raw_mimetype": "text/restructuredtext",
    "tags": []
   },
   "source": [
    ".. _nb_algorithms_func:"
   ]
  },
  {
   "cell_type": "markdown",
   "metadata": {},
   "source": [
    "## Functional"
   ]
  },
  {
   "cell_type": "markdown",
   "metadata": {},
   "source": [
    "As you might be used to executing algorithms from other frameworks, pymoo offers a functional interface. It requires to pass the problem to be solved, the algorithm to be used, and optionally (but for most algorithms recommend) a termination condition. Other important arguments are discussed in the [Interface](../interface/index.ipynb) tutorial. For executing custom code in between iterations the [Callback](../interface/callback.ipynb) object can be useful. Moreover, it is worth noting that the algorithm object is cloned before being modified. Thus, two calls with the same algorithm object and random seed lead to the same result."
   ]
  },
  {
   "cell_type": "code",
   "execution_count": null,
   "metadata": {},
   "outputs": [],
   "source": [
    "from pymoo.algorithms.moo.nsga2 import NSGA2\n",
    "from pymoo.problems import get_problem\n",
    "from pymoo.optimize import minimize\n",
    "\n",
    "problem = get_problem(\"zdt1\")\n",
    "\n",
    "algorithm = NSGA2(pop_size=100)\n",
    "\n",
    "res = minimize(problem,\n",
    "               algorithm,\n",
    "               ('n_gen', 10),\n",
    "               seed=1,\n",
    "               verbose=True)\n",
    "\n",
    "# calculate a hash to show that all executions end with the same result\n",
    "print(\"hash\", res.F.sum())"
   ]
  },
  {
   "cell_type": "raw",
   "metadata": {
    "raw_mimetype": "text/restructuredtext",
    "tags": []
   },
   "source": [
    ".. _nb_algorithms_object:"
   ]
  },
  {
   "cell_type": "markdown",
   "metadata": {},
   "source": [
    "## Object-oriented"
   ]
  },
  {
   "cell_type": "markdown",
   "metadata": {},
   "source": [
    "Instead of passing the algorithm to the `minimize` function, it can be used directly for optimization. The first way using the `next` function is available for all algorithms in pymoo. The second way provides a convenient **Ask and Tell** interface, available for most evolutionary algorithms. The reason to use one or the other interface is to have more control during an algorithm execution or even modify the algorithm object while injecting new solutions."
   ]
  },
  {
   "cell_type": "raw",
   "metadata": {
    "raw_mimetype": "text/restructuredtext",
    "tags": []
   },
   "source": [
    ".. _nb_algorithms_next:"
   ]
  },
  {
   "cell_type": "markdown",
   "metadata": {},
   "source": [
    "### Next Function"
   ]
  },
  {
   "cell_type": "markdown",
   "metadata": {},
   "source": [
    "Directly using the `algorithm` object will modify its state during runtime. This allows to ask the object if one more iteration shall be executed or not by calling `algorithm.has_next()`. As soon as the termination criterion has been satisfied, this will return `False`, ending the run. \n",
    "Here, we show a custom printout in each iteration (from the second iteration on). Of course, more sophisticated procedures can be incorporated."
   ]
  },
  {
   "cell_type": "code",
   "execution_count": null,
   "metadata": {},
   "outputs": [],
   "source": [
    "import datetime\n",
    "\n",
    "from pymoo.algorithms.moo.nsga2 import NSGA2\n",
    "from pymoo.problems import get_problem\n",
    "\n",
    "problem = get_problem(\"zdt1\")\n",
    "\n",
    "algorithm = NSGA2(pop_size=100)\n",
    "\n",
    "# prepare the algorithm to solve the specific problem (same arguments as for the minimize function)\n",
    "algorithm.setup(problem, termination=('n_gen', 10), seed=1, verbose=False)\n",
    "\n",
    "# until the algorithm has no terminated\n",
    "while algorithm.has_next():\n",
    "    \n",
    "    # do the next iteration\n",
    "    algorithm.next()\n",
    "    \n",
    "    # do same more things, printing, logging, storing or even modifying the algorithm object\n",
    "    print(algorithm.n_gen, algorithm.evaluator.n_eval)\n",
    "    \n",
    "    \n",
    "# obtain the result objective from the algorithm\n",
    "res = algorithm.result()\n",
    "\n",
    "# calculate a hash to show that all executions end with the same result\n",
    "print(\"hash\", res.F.sum())"
   ]
  },
  {
   "cell_type": "raw",
   "metadata": {
    "raw_mimetype": "text/restructuredtext",
    "tags": []
   },
   "source": [
    ".. _nb_algorithms_ask_and_tell:"
   ]
  },
  {
   "cell_type": "markdown",
   "metadata": {},
   "source": [
    "### Ask and Tell"
   ]
  },
  {
   "cell_type": "markdown",
   "metadata": {},
   "source": [
    "The `next` method already provides much more control over the algorithm executing than the functional interface. However, the call of the `next` function on the algorithm object still is considered a black box. This is where the **Ask and Tell** interface comes into play. Instead of calling one function, two function calls are executed. First, `algorithm.ask()` returns a solution set to be evaluated, and second, `algorithm.tell(solutions)` receives the evaluated solutions to proceed to the next generation. This gives even further control over the run. "
   ]
  },
  {
   "cell_type": "markdown",
   "metadata": {},
   "source": [
    "#### Problem-Depdendent\n",
    "\n",
    "A possible implementation of using this interface can look as follows:"
   ]
  },
  {
   "cell_type": "code",
   "execution_count": null,
   "metadata": {},
   "outputs": [],
   "source": [
    "from pymoo.algorithms.moo.nsga2 import NSGA2\n",
    "from pymoo.problems import get_problem\n",
    "\n",
    "problem = get_problem(\"zdt1\")\n",
    "\n",
    "algorithm = NSGA2(pop_size=100)\n",
    "\n",
    "# prepare the algorithm to solve the specific problem (same arguments as for the minimize function)\n",
    "algorithm.setup(problem, termination=('n_gen', 10), seed=1, verbose=False)\n",
    "\n",
    "# until the algorithm has no terminated\n",
    "while algorithm.has_next():\n",
    "\n",
    "    # ask the algorithm for the next solution to be evaluated\n",
    "    pop = algorithm.ask()\n",
    "\n",
    "    # evaluate the individuals using the algorithm's evaluator (necessary to count evaluations for termination)\n",
    "    algorithm.evaluator.eval(problem, pop)\n",
    "\n",
    "    # returned the evaluated individuals which have been evaluated or even modified\n",
    "    algorithm.tell(infills=pop)\n",
    "\n",
    "    # do same more things, printing, logging, storing or even modifying the algorithm object\n",
    "    print(algorithm.n_gen, algorithm.evaluator.n_eval)\n",
    "\n",
    "# obtain the result objective from the algorithm\n",
    "res = algorithm.result()\n",
    "\n",
    "# calculate a hash to show that all executions end with the same result\n",
    "print(\"hash\", res.F.sum())"
   ]
  },
  {
   "cell_type": "markdown",
   "metadata": {},
   "source": [
    "#### Problem-independent\n",
    "\n",
    "Since the evaluation is directly the step between the ask-and-tell calls, the evaluation function of the problem (`_evaluate`) is not even necessary anymore and the evaluation can be moved into the for-loop. We refer to this as the problem-independent execution. However, even in this case, some meta-data about the problem (number of variables, objectives, bounds) need to be provided."
   ]
  },
  {
   "cell_type": "code",
   "execution_count": null,
   "metadata": {},
   "outputs": [],
   "source": [
    "import numpy as np\n",
    "\n",
    "from pymoo.algorithms.moo.nsga2 import NSGA2\n",
    "from pymoo.core.evaluator import Evaluator\n",
    "from pymoo.core.problem import Problem\n",
    "from pymoo.core.termination import NoTermination\n",
    "from pymoo.problems.static import StaticProblem\n",
    "\n",
    "problem = Problem(n_var=30, n_obj=2, n_constr=0, xl=np.zeros(30), xu=np.ones(30))\n",
    "\n",
    "# create the algorithm object\n",
    "algorithm = NSGA2(pop_size=100)\n",
    "\n",
    "# let the algorithm object never terminate and let the loop control it\n",
    "termination = NoTermination()\n",
    "\n",
    "# create an algorithm object that never terminates\n",
    "algorithm.setup(problem, termination=termination)\n",
    "\n",
    "# fix the random seed manually\n",
    "np.random.seed(1)\n",
    "\n",
    "# until the algorithm has no terminated\n",
    "for n_gen in range(10):\n",
    "    # ask the algorithm for the next solution to be evaluated\n",
    "    pop = algorithm.ask()\n",
    "\n",
    "    # get the design space values of the algorithm\n",
    "    X = pop.get(\"X\")\n",
    "\n",
    "    # implement your evluation. here ZDT1\n",
    "    f1 = X[:, 0]\n",
    "    v = 1 + 9.0 / (problem.n_var - 1) * np.sum(X[:, 1:], axis=1)\n",
    "    f2 = v * (1 - np.power((f1 / v), 0.5))\n",
    "    F = np.column_stack([f1, f2])\n",
    "\n",
    "    static = StaticProblem(problem, F=F)\n",
    "    Evaluator().eval(static, pop)\n",
    "\n",
    "    # returned the evaluated individuals which have been evaluated or even modified\n",
    "    algorithm.tell(infills=pop)\n",
    "\n",
    "    # do same more things, printing, logging, storing or even modifying the algorithm object\n",
    "    print(algorithm.n_gen)\n",
    "\n",
    "# obtain the result objective from the algorithm\n",
    "res = algorithm.result()\n",
    "\n",
    "# calculate a hash to show that all executions end with the same result\n",
    "print(\"hash\", res.F.sum())"
   ]
  }
 ],
 "metadata": {
  "language_info": {
   "codemirror_mode": {
    "name": "ipython",
    "version": 3
   },
   "file_extension": ".py",
   "mimetype": "text/x-python",
   "name": "python",
   "nbconvert_exporter": "python",
   "pygments_lexer": "ipython3"
  }
 },
 "nbformat": 4,
 "nbformat_minor": 4
}
