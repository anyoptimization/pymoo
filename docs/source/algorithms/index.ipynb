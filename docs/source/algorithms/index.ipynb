{
 "cells": [
  {
   "cell_type": "raw",
   "metadata": {
    "raw_mimetype": "text/restructuredtext"
   },
   "source": [
    ".. _nb_algorithms:"
   ]
  },
  {
   "cell_type": "markdown",
   "metadata": {},
   "source": [
    "# Algorithms"
   ]
  },
  {
   "cell_type": "raw",
   "metadata": {
    "raw_mimetype": "text/restructuredtext"
   },
   "source": [
    ".. toctree::\n",
    "   :hidden:\n",
    "   :maxdepth: 2\n",
    "\n",
    "   initialization\n",
    "   usage\n",
    "   list\n",
    "   hyperparameters\n",
    "   soo/ga\n",
    "   soo/brkga\n",
    "   soo/de\n",
    "   soo/nelder\n",
    "   soo/pso\n",
    "   soo/pattern\n",
    "   soo/es\n",
    "   soo/sres\n",
    "   soo/isres\n",
    "   soo/cmaes\n",
    "   soo/g3pcx\n",
    "   moo/nsga2\n",
    "   moo/rnsga2\n",
    "   moo/nsga3\n",
    "   moo/unsga3\n",
    "   moo/rnsga3\n",
    "   moo/moead\n",
    "   moo/ctaea\n",
    "   moo/age\n",
    "   moo/age2\n",
    "   moo/rvea\n",
    "   moo/sms\n",
    "   moo/dnsga2\n",
    "   moo/kgb\n"
   ]
  },
  {
   "cell_type": "markdown",
   "metadata": {},
   "source": [
    "Algorithms are probably the reason why you got to know *pymoo*. You can find a variety of unconstrained and constrained single-, multi-, and many-objective optimization algorithms. Besides the availability of an algorithm, also its usage is of importance. The following tutorial pages show the different ways of initialization and running algorithms (functional, next, ask-and-tell) and all algorithms available in pymoo."
   ]
  },
  {
   "cell_type": "raw",
   "metadata": {
    "raw_mimetype": "text/restructuredtext"
   },
   "source": [
    ".. admonition:: Overview\n",
    "    :class: myOwnStyle\n",
    "    \n",
    "    - :ref:`Initialization <nb_algorithms_init>`: How to initialize an algorithm to be run on a problem.\n",
    "    - :ref:`Usage <nb_algorithms_usage>`: Different ways to run algorithms with different levels of control during optimization.\n",
    "    - :ref:`List of Algorithms <nb_algorithms_list>`: Unconstrained and constrained single-, multi-, and many-objective optimization algorithms\n"
   ]
  }
 ],
 "metadata": {
  "kernelspec": {
   "display_name": "Python 3 (ipykernel)",
   "language": "python",
   "name": "python3"
  },
  "language_info": {
   "codemirror_mode": {
    "name": "ipython",
    "version": 3
   },
   "file_extension": ".py",
   "mimetype": "text/x-python",
   "name": "python",
   "nbconvert_exporter": "python",
   "pygments_lexer": "ipython3"
  }
 },
 "nbformat": 4,
 "nbformat_minor": 4
}
