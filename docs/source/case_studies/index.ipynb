{
 "cells": [
  {
   "cell_type": "raw",
   "metadata": {
    "raw_mimetype": "text/restructuredtext"
   },
   "source": [
    ".. _nb_case_studies:"
   ]
  },
  {
   "cell_type": "markdown",
   "metadata": {
    "tags": []
   },
   "source": [
    "# Case Studies"
   ]
  },
  {
   "cell_type": "raw",
   "metadata": {
    "raw_mimetype": "text/restructuredtext",
    "tags": []
   },
   "source": [
    "\n",
    ".. toctree::\n",
    "   :maxdepth: 1\n",
    "   :hidden:\n",
    "   \n",
    "   subset_selection.ipynb\n",
    "   portfolio_allocation.ipynb\n",
    "\n",
    "   "
   ]
  },
  {
   "cell_type": "raw",
   "metadata": {
    "raw_mimetype": "text/restructuredtext"
   },
   "source": [
    ".. admonition:: Overview\n",
    "    :class: myOwnStyle\n",
    "\n",
    "    - `Subset Selection <subset_selection.ipynb>`_: \n",
    "\n",
    "    - `Portfolio Allocation <portfolio_allocation.ipynb>`_:\n"
   ]
  }
 ],
 "metadata": {
  "language_info": {
   "codemirror_mode": {
    "name": "ipython",
    "version": 3
   },
   "file_extension": ".py",
   "mimetype": "text/x-python",
   "name": "python",
   "nbconvert_exporter": "python",
   "pygments_lexer": "ipython3"
  }
 },
 "nbformat": 4,
 "nbformat_minor": 4
}
