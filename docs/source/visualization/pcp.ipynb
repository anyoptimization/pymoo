{
 "cells": [
  {
   "cell_type": "raw",
   "metadata": {
    "raw_mimetype": "text/restructuredtext"
   },
   "source": [
    ".. _nb_pcp:"
   ]
  },
  {
   "cell_type": "markdown",
   "metadata": {},
   "source": [
    "## Parallel Coordinate Plots\n",
    "\n"
   ]
  },
  {
   "cell_type": "markdown",
   "metadata": {},
   "source": [
    "For higher-dimensional data, Parallel Coordinate Plots are a powerful technique to analyze how dense solutions are distributed in different ranges regarding each coordinate.\n",
    "\n",
    "Let us create some data for visualization:"
   ]
  },
  {
   "cell_type": "code",
   "execution_count": null,
   "metadata": {
    "tags": []
   },
   "outputs": [],
   "source": [
    "from pymoo.problems.many.dtlz import DTLZ1\n",
    "from pymoo.util.reference_direction import UniformReferenceDirectionFactory\n",
    "\n",
    "ref_dirs = UniformReferenceDirectionFactory(6, n_partitions=5)() * [2, 4, 8, 16, 32, 64]\n",
    "F = DTLZ1().pareto_front(ref_dirs)"
   ]
  },
  {
   "cell_type": "markdown",
   "metadata": {},
   "source": [
    "This is the Pareto-front for the DTLZ1 test problem with six objectives, with some scale added. We add a different scaling to show the effect of normalization later on. Let us assume our algorithm converged after some generations, and this is the result set."
   ]
  },
  {
   "cell_type": "code",
   "execution_count": null,
   "metadata": {
    "tags": []
   },
   "outputs": [],
   "source": [
    "from pymoo.visualization.pcp import PCP\n",
    "PCP().add(F).show()"
   ]
  },
  {
   "cell_type": "markdown",
   "metadata": {},
   "source": [
    "This gives an idea of the overall result set. \n",
    "Let us assume we identified solution 50 and 75 to more of interest and like to highlight them in our plot:"
   ]
  },
  {
   "cell_type": "code",
   "execution_count": null,
   "metadata": {
    "tags": []
   },
   "outputs": [],
   "source": [
    "plot = PCP()\n",
    "plot.set_axis_style(color=\"grey\", alpha=0.5)\n",
    "plot.add(F, color=\"grey\", alpha=0.3)\n",
    "plot.add(F[50], linewidth=5, color=\"red\")\n",
    "plot.add(F[75], linewidth=5, color=\"blue\")\n",
    "plot.show()"
   ]
  },
  {
   "cell_type": "markdown",
   "metadata": {},
   "source": [
    "Please note that the PCP object just is a wrapper around a matplotlib figure. All options that apply for plotting the corresponding type (here `plot`, but it can also be `scatter`, `polygon`, ...) can be used, such as `linewidth`, `color` or `alpha`."
   ]
  },
  {
   "cell_type": "markdown",
   "metadata": {},
   "source": [
    "Some more options to be used in a plot"
   ]
  },
  {
   "cell_type": "code",
   "execution_count": null,
   "metadata": {
    "tags": []
   },
   "outputs": [],
   "source": [
    "plot = PCP(title=(\"Run\", {'pad': 30}),\n",
    "           n_ticks=10,\n",
    "           legend=(True, {'loc': \"upper left\"}),\n",
    "           labels=[\"profit\", \"cost\", \"sustainability\", \"environment\", \"satisfaction\", \"time\"]\n",
    "           )\n",
    "\n",
    "plot.set_axis_style(color=\"grey\", alpha=1)\n",
    "plot.add(F, color=\"grey\", alpha=0.3)\n",
    "plot.add(F[50], linewidth=5, color=\"red\", label=\"Solution A\")\n",
    "plot.add(F[75], linewidth=5, color=\"blue\", label=\"Solution B\")\n",
    "plot.show()"
   ]
  },
  {
   "cell_type": "markdown",
   "metadata": {},
   "source": [
    "Moreover, if the boundaries should be set manually, this can be achieved by turning the default normalization of and providing them. Either directly as a NumPy array or just an integer to be set for all axes."
   ]
  },
  {
   "cell_type": "code",
   "execution_count": null,
   "metadata": {
    "tags": []
   },
   "outputs": [],
   "source": [
    "plot.reset()\n",
    "plot.normalize_each_axis = False\n",
    "plot.bounds=[[1,1,1,2,2,5],[32,32,32,32,32,32]]\n",
    "plot.show()"
   ]
  },
  {
   "cell_type": "markdown",
   "metadata": {},
   "source": [
    "### API"
   ]
  },
  {
   "cell_type": "raw",
   "metadata": {
    "raw_mimetype": "text/restructuredtext"
   },
   "source": [
    ".. autoclass:: pymoo.visualization.pcp.PCP\n",
    "    :noindex:"
   ]
  }
 ],
 "metadata": {
  "language_info": {
   "codemirror_mode": {
    "name": "ipython",
    "version": 3
   },
   "file_extension": ".py",
   "mimetype": "text/x-python",
   "name": "python",
   "nbconvert_exporter": "python",
   "pygments_lexer": "ipython3"
  }
 },
 "nbformat": 4,
 "nbformat_minor": 4
}
