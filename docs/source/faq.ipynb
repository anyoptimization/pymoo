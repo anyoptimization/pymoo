{
 "cells": [
  {
   "cell_type": "markdown",
   "metadata": {},
   "source": [
    "# FAQ"
   ]
  },
  {
   "cell_type": "markdown",
   "metadata": {},
   "source": [
    "Below you will find some answers to frequently asked questions in the past:"
   ]
  },
  {
   "cell_type": "markdown",
   "metadata": {},
   "source": [
    "**Q1: When I enable** `verbose=True` **what does the output mean?** \n",
    "\n",
    "The output differs depending on the type of problem and if the Pareto-front is known or not. Please have a look at the description of each column at the [Display](interface/display.ipynb) guide."
   ]
  },
  {
   "cell_type": "markdown",
   "metadata": {},
   "source": [
    "**Q2: How can equality constraints be handled?** \n",
    "\n",
    "Genetic algorithms are not able to deal with *equality* constraints out of the box. Nevertheless, modifying the search space to always satisfy the constraints can make evolutionary operators to work in you favor. Another approach is to add a [Repair](operators/repair.ipynb) operator to find a feasible solution close by to an existing one."
   ]
  }
 ],
 "metadata": {
  "language_info": {
   "codemirror_mode": {
    "name": "ipython",
    "version": 3
   },
   "file_extension": ".py",
   "mimetype": "text/x-python",
   "name": "python",
   "nbconvert_exporter": "python",
   "pygments_lexer": "ipython3"
  }
 },
 "nbformat": 4,
 "nbformat_minor": 4
}
