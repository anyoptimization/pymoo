{
 "cells": [
  {
   "cell_type": "markdown",
   "metadata": {},
   "source": [
    ".. meta::\n",
    "   :description: A guide which introduces the most important steps to get started with pymoo, an open-source multi-objective optimization framework in Python."
   ]
  },
  {
   "cell_type": "markdown",
   "metadata": {},
   "source": [
    ".. meta::\n",
    "   :keywords: Multi-objective Optimization, Python, Evolutionary Computation, Optimization Test Problem, Hypervolume"
   ]
  },
  {
   "cell_type": "raw",
   "metadata": {
    "raw_mimetype": "text/restructuredtext"
   },
   "source": [
    ".. _nb_getting_started_part5:"
   ]
  },
  {
   "cell_type": "markdown",
   "metadata": {},
   "source": [
    "# Part V: Some more useful Information"
   ]
  },
  {
   "cell_type": "markdown",
   "metadata": {},
   "source": [
    "This getting started guide has covered the most common steps of a multi-objective optimization scenario. More details about each of the topics shown in this guide are available in the corresponding topic sections."
   ]
  },
  {
   "cell_type": "raw",
   "metadata": {
    "raw_mimetype": "text/restructuredtext"
   },
   "source": [
    ".. admonition:: Overview\n",
    "    :class: myOwnStyle\n",
    "\n",
    "    - `Interface <../interface/index.ipynb>`_: An overview over the most important parameters of the interface.\n",
    "    - `Problems <../problems/index.ipynb>`_: A guide how to implement your own custom problem and how to use test problems alrady being implemented.\n",
    "    - `Algorithms <../algorithms/index.ipynb>`_: Information about all algorithms and how to use them for optimization.\n",
    "    - `Operators <../operators/index.ipynb>`_: An overview of evolutionary operators.\n",
    "    - `Customization <../customization/index.ipynb>`_: How to design your custom evolutionary operators to develop an efficient genetic algorithm for your specific optimization problem.\n",
    "    - `Visualization <../visualization/index.ipynb>`_: Different techniques for visualization the results of an optimization run or a single solution.\n",
    "    - `Multi-Criteria Decision Making <../mcdm/index.ipynb>`_: How to select a solution from a solution set.\n",
    "    - `FAQ <../faq.ipynb>`_: Frequently asked questions."
   ]
  },
  {
   "cell_type": "markdown",
   "metadata": {},
   "source": [
    "We hope you have enjoyed the getting started guide. We refer to each section covered on the [landing page](https://pymoo.org). If you have any questions or concerns, do not hesitate to [contact us](../contact.rst)."
   ]
  },
  {
   "cell_type": "markdown",
   "metadata": {},
   "source": [
    "### Cite Us"
   ]
  },
  {
   "cell_type": "raw",
   "metadata": {
    "raw_mimetype": "text/restructuredtext"
   },
   "source": [
    "If you have used our framework for research purposes, you can cite our publication by:\n",
    "\n",
    "| `J. Blank and K. Deb, pymoo: Multi-Objective Optimization in Python, in IEEE Access, vol. 8, pp. 89497-89509, 2020, doi: 10.1109/ACCESS.2020.2990567 <https://ieeexplore.ieee.org/document/9078759>`_\n",
    "|\n",
    "| BibTex:\n",
    "\n",
    "::\n",
    "\n",
    "    @ARTICLE{pymoo,\n",
    "        author={J. {Blank} and K. {Deb}},\n",
    "        journal={IEEE Access},\n",
    "        title={pymoo: Multi-Objective Optimization in Python},\n",
    "        year={2020},\n",
    "        volume={8},\n",
    "        number={},\n",
    "        pages={89497-89509},\n",
    "    }\n",
    "\n"
   ]
  }
 ],
 "metadata": {
  "language_info": {
   "codemirror_mode": {
    "name": "ipython",
    "version": 3
   },
   "file_extension": ".py",
   "mimetype": "text/x-python",
   "name": "python",
   "nbconvert_exporter": "python",
   "pygments_lexer": "ipython3"
  }
 },
 "nbformat": 4,
 "nbformat_minor": 4
}
