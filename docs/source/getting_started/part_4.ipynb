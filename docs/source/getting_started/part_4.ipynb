{
 "cells": [
  {
   "cell_type": "markdown",
   "metadata": {},
   "source": [
    ".. meta::\n",
    "   :description: A guide which introduces the most important steps to get started with pymoo, an open-source multi-objective optimization framework in Python."
   ]
  },
  {
   "cell_type": "markdown",
   "metadata": {},
   "source": [
    ".. meta::\n",
    "   :keywords: Multi-objective Optimization, Python, Evolutionary Computation, Optimization Test Problem, Hypervolume"
   ]
  },
  {
   "cell_type": "raw",
   "metadata": {
    "raw_mimetype": "text/restructuredtext"
   },
   "source": [
    ".. _nb_getting_started_part4:"
   ]
  },
  {
   "cell_type": "code",
   "execution_count": null,
   "metadata": {
    "tags": []
   },
   "outputs": [],
   "source": [
    "%%capture\n",
    "%run part_2.ipynb"
   ]
  },
  {
   "cell_type": "markdown",
   "metadata": {},
   "source": [
    "# Part IV: Analysis of Convergence"
   ]
  },
  {
   "cell_type": "markdown",
   "metadata": {},
   "source": [
    "**Great!** So far, we have executed an algorithm and already obtained a solution set. But let us not stop here without knowing how the algorithm has performed. This will also answer how we should define a termination criterion if we solve the problem again. The convergence analysis shall consider two cases, i) the Pareto-front is not known, or ii) the Pareto-front has been derived analytically, or a reasonable approximation exists."
   ]
  },
  {
   "cell_type": "markdown",
   "metadata": {},
   "source": [
    "## Result"
   ]
  },
  {
   "cell_type": "markdown",
   "metadata": {},
   "source": [
    "To further check how close the results match the analytically derived optimum, we have to convert the objective space values to the original definition where the second objective $f_2$ was maximized. Plotting then the Pareto-front shows how close the algorithm was able to converge."
   ]
  },
  {
   "cell_type": "code",
   "execution_count": null,
   "metadata": {
    "tags": []
   },
   "outputs": [],
   "source": [
    "from pymoo.util.misc import stack\n",
    "\n",
    "class MyTestProblem(MyProblem):\n",
    "\n",
    "    def _calc_pareto_front(self, flatten=True, *args, **kwargs):\n",
    "        f2 = lambda f1: ((f1/100) ** 0.5 - 1)**2\n",
    "        F1_a, F1_b = np.linspace(1, 16, 300), np.linspace(36, 81, 300)\n",
    "        F2_a, F2_b = f2(F1_a), f2(F1_b)\n",
    "        \n",
    "        pf_a = np.column_stack([F1_a, F2_a])\n",
    "        pf_b = np.column_stack([F1_b, F2_b])\n",
    "        \n",
    "        return stack(pf_a, pf_b, flatten=flatten)\n",
    "\n",
    "    def _calc_pareto_set(self, *args, **kwargs):\n",
    "        x1_a = np.linspace(0.1, 0.4, 50)\n",
    "        x1_b = np.linspace(0.6, 0.9, 50)\n",
    "        x2 = np.zeros(50)\n",
    "        \n",
    "        a, b = np.column_stack([x1_a, x2]), np.column_stack([x1_b, x2])\n",
    "        return stack(a,b, flatten=flatten) \n",
    "    \n",
    "problem = MyTestProblem()"
   ]
  },
  {
   "cell_type": "markdown",
   "metadata": {},
   "source": [
    "For IGD, the Pareto front needs to be known or to be approximated.\n",
    "In our framework, the Pareto front of **test problems** can be obtained by:"
   ]
  },
  {
   "cell_type": "code",
   "execution_count": null,
   "metadata": {
    "tags": []
   },
   "outputs": [],
   "source": [
    "pf_a, pf_b = problem.pareto_front(use_cache=False, flatten=False)"
   ]
  },
  {
   "cell_type": "code",
   "execution_count": null,
   "metadata": {
    "tags": []
   },
   "outputs": [],
   "source": [
    "pf = problem.pareto_front(use_cache=False, flatten=True)"
   ]
  },
  {
   "cell_type": "code",
   "execution_count": null,
   "metadata": {
    "tags": []
   },
   "outputs": [],
   "source": [
    "plt.figure(figsize=(7, 5))\n",
    "plt.scatter(F[:, 0], F[:, 1], s=30, facecolors='none', edgecolors='b', label=\"Solutions\")\n",
    "plt.plot(pf_a[:, 0], pf_a[:, 1], alpha=0.5, linewidth=2.0, color=\"red\", label=\"Pareto-front\")\n",
    "plt.plot(pf_b[:, 0], pf_b[:, 1], alpha=0.5, linewidth=2.0, color=\"red\")\n",
    "plt.title(\"Objective Space\")\n",
    "plt.legend()\n",
    "plt.show()"
   ]
  },
  {
   "cell_type": "markdown",
   "metadata": {},
   "source": [
    "Whether the optimum for your problem is known or not, we encourage all end-users of *pymoo* not to skip the analysis of the obtained solution set. Visualizations for high-dimensional objective spaces (in design and/or objective space) are also provided and shown [here](../visualization/index.ipynb)."
   ]
  },
  {
   "cell_type": "markdown",
   "metadata": {},
   "source": [
    "In **Part II**, we have run the algorithm without storing, keeping track of the optimization progress, and storing information. However, for analyzing the convergence, historical data need to be stored. One way of accomplishing that is enabling the `save_history` flag, which will store a deep copy of the algorithm object in each iteration and save it in the `Result` object. This approach is more memory-intensive (especially for many iterations) but has the advantage that **any** algorithm-dependent variable can be analyzed posteriorly."
   ]
  },
  {
   "cell_type": "markdown",
   "metadata": {},
   "source": [
    "A not negligible step is the post-processing after having obtained the results. We strongly recommend not only analyzing the final result but also the algorithm's behavior. This gives more insights into the convergence of the algorithm.\n",
    "\n",
    "For such an analysis, intermediate steps of the algorithm need to be considered. This can either be achieved by:\n",
    "\n",
    "- A `Callback` class storing the necessary information in each iteration of the algorithm.\n",
    "- Enabling the `save_history` flag when calling the minimize method to store a deep copy of the algorithm's objective each iteration.\n",
    "\n",
    "We provide some more details about each variant in our [convergence](../misc/convergence.ipynb) tutorial.\n",
    "As you might have already seen, we have set `save_history=True` when calling the `minmize` method in this getting started guide and, thus, will you the `history` for our analysis. Moreover, we need to decide what metric should be used to measure the performance of our algorithm. In this tutorial, we are going to use `Hypervolume` and `IGD`. Feel free to look at our [performance indicators](../misc/indicators.ipynb) to find more information about metrics to measure the performance of multi-objective algorithms."
   ]
  },
  {
   "cell_type": "code",
   "execution_count": null,
   "metadata": {
    "tags": []
   },
   "outputs": [],
   "source": [
    "from pymoo.optimize import minimize\n",
    "\n",
    "res = minimize(problem,\n",
    "               algorithm,\n",
    "               (\"n_gen\", 40),\n",
    "               seed=1,\n",
    "               save_history=True,\n",
    "               verbose=False)\n",
    "\n",
    "X, F = res.opt.get(\"X\", \"F\")\n",
    "\n",
    "hist = res.history\n",
    "print(len(hist))"
   ]
  },
  {
   "cell_type": "markdown",
   "metadata": {},
   "source": [
    "From the `history` it is relatively easy to extract the information we need for an analysis. "
   ]
  },
  {
   "cell_type": "code",
   "execution_count": null,
   "metadata": {
    "tags": []
   },
   "outputs": [],
   "source": [
    "n_evals = []             # corresponding number of function evaluations\\\n",
    "hist_F = []              # the objective space values in each generation\n",
    "hist_cv = []             # constraint violation in each generation\n",
    "hist_cv_avg = []         # average constraint violation in the whole population\n",
    "\n",
    "for algo in hist:\n",
    "    \n",
    "    # store the number of function evaluations\n",
    "    n_evals.append(algo.evaluator.n_eval)\n",
    "    \n",
    "    # retrieve the optimum from the algorithm\n",
    "    opt = algo.opt\n",
    "    \n",
    "    # store the least contraint violation and the average in each population\n",
    "    hist_cv.append(opt.get(\"CV\").min())\n",
    "    hist_cv_avg.append(algo.pop.get(\"CV\").mean())\n",
    "\n",
    "    # filter out only the feasible and append and objective space values\n",
    "    feas = np.where(opt.get(\"feasible\"))[0]\n",
    "    hist_F.append(opt.get(\"F\")[feas])"
   ]
  },
  {
   "cell_type": "markdown",
   "metadata": {},
   "source": [
    "## Constraint Satisfaction"
   ]
  },
  {
   "cell_type": "markdown",
   "metadata": {},
   "source": [
    "First, let us quickly see when the first feasible solution has been found:"
   ]
  },
  {
   "cell_type": "code",
   "execution_count": null,
   "metadata": {
    "tags": []
   },
   "outputs": [],
   "source": [
    "k = np.where(np.array(hist_cv) <= 0.0)[0].min()\n",
    "print(f\"At least one feasible solution in Generation {k} after {n_evals[k]} evaluations.\")"
   ]
  },
  {
   "cell_type": "markdown",
   "metadata": {},
   "source": [
    "Because this problem does not have much complexity, a feasible solution was found right away. Nevertheless, this can be entirely different for your optimization problem and is also worth being analyzed first."
   ]
  },
  {
   "cell_type": "code",
   "execution_count": null,
   "metadata": {
    "tags": []
   },
   "outputs": [],
   "source": [
    "# replace this line by `hist_cv` if you like to analyze the least feasible optimal solution and not the population \n",
    "vals = hist_cv_avg\n",
    "\n",
    "k = np.where(np.array(vals) <= 0.0)[0].min()\n",
    "print(f\"Whole population feasible in Generation {k} after {n_evals[k]} evaluations.\")\n",
    "\n",
    "plt.figure(figsize=(7, 5))\n",
    "plt.plot(n_evals, vals,  color='black', lw=0.7, label=\"Avg. CV of Pop\")\n",
    "plt.scatter(n_evals, vals,  facecolor=\"none\", edgecolor='black', marker=\"p\")\n",
    "plt.axvline(n_evals[k], color=\"red\", label=\"All Feasible\", linestyle=\"--\")\n",
    "plt.title(\"Convergence\")\n",
    "plt.xlabel(\"Function Evaluations\")\n",
    "plt.ylabel(\"Hypervolume\")\n",
    "plt.legend()\n",
    "plt.show()"
   ]
  },
  {
   "cell_type": "markdown",
   "metadata": {},
   "source": [
    "## Pareto-front is unknown"
   ]
  },
  {
   "cell_type": "markdown",
   "metadata": {},
   "source": [
    "If the Pareto-front is not known, we can not know if the algorithm has converged to the true optimum or not. At least not without any further information. However, we can see when the algorithm has made most of its progress during optimization and thus if the number of iterations should be less or more. Additionally, the metrics serve to compare two algorithms with each other."
   ]
  },
  {
   "cell_type": "markdown",
   "metadata": {},
   "source": [
    "In multi-objective optimization **normalization** the very important. For that reason, you see below that the Hypervolume is based on a normalized set normalized by the bounds (idea)\n",
    "More details about it will be shown in Part IV. "
   ]
  },
  {
   "cell_type": "markdown",
   "metadata": {},
   "source": [
    "### Hypvervolume (HV)"
   ]
  },
  {
   "cell_type": "markdown",
   "metadata": {},
   "source": [
    "Hypervolume is a very well-known performance indicator for multi-objective problems. It is Pareto-compliant and is based on the volume between a predefined reference point and the solution provided. Therefore, hypervolume requires defining a reference point `ref_point`, which shall be larger than the maximum value of the Pareto front. "
   ]
  },
  {
   "cell_type": "code",
   "execution_count": null,
   "metadata": {
    "tags": []
   },
   "outputs": [],
   "source": [
    "approx_ideal = F.min(axis=0)\n",
    "approx_nadir = F.max(axis=0)"
   ]
  },
  {
   "cell_type": "code",
   "execution_count": null,
   "metadata": {
    "tags": []
   },
   "outputs": [],
   "source": [
    "from pymoo.indicators.hv import Hypervolume\n",
    "\n",
    "metric = Hypervolume(ref_point= np.array([1.1, 1.1]), \n",
    "                     norm_ref_point=False,\n",
    "                     zero_to_one=True, \n",
    "                     ideal=approx_ideal,\n",
    "                     nadir=approx_nadir)\n",
    "\n",
    "hv = [metric.do(_F) for _F in hist_F]  \n",
    "\n",
    "plt.figure(figsize=(7, 5))\n",
    "plt.plot(n_evals, hv,  color='black', lw=0.7, label=\"Avg. CV of Pop\")\n",
    "plt.scatter(n_evals, hv,  facecolor=\"none\", edgecolor='black', marker=\"p\")\n",
    "plt.title(\"Convergence\")\n",
    "plt.xlabel(\"Function Evaluations\")\n",
    "plt.ylabel(\"Hypervolume\")\n",
    "plt.show()"
   ]
  },
  {
   "cell_type": "markdown",
   "metadata": {},
   "source": [
    "**Note:** Hypervolume becomes computationally expensive with increasing dimensionality. The exact hypervolume can be calculated efficiently for 2 and 3 objectives. For higher dimensions, some researchers use a hypervolume approximation, which is not available yet in pymoo."
   ]
  },
  {
   "cell_type": "markdown",
   "metadata": {},
   "source": [
    "### Running Metric"
   ]
  },
  {
   "cell_type": "markdown",
   "metadata": {},
   "source": [
    "Another way of analyzing a run when the true Pareto front is **not** known is the recently proposed [running metric](https://www.egr.msu.edu/~kdeb/papers/c2020003.pdf). The running metric shows the difference in the objective space from one generation to another and uses the algorithm's survival to visualize the improvement.\n",
    "This metric is also being used in pymoo to determine the termination of a multi-objective optimization algorithm if no default termination criteria have been defined."
   ]
  },
  {
   "cell_type": "markdown",
   "metadata": {},
   "source": [
    "For instance, this analysis reveals that the algorithm improved from the 4th to the 5th generation significantly."
   ]
  },
  {
   "cell_type": "code",
   "execution_count": null,
   "metadata": {
    "tags": []
   },
   "outputs": [],
   "source": [
    "from pymoo.util.running_metric import RunningMetricAnimation\n",
    "\n",
    "running = RunningMetricAnimation(delta_gen=5, \n",
    "                        n_plots=3,\n",
    "                        key_press=False,\n",
    "                        do_show=True)\n",
    "\n",
    "for algorithm in res.history[:15]:\n",
    "    running.update(algorithm)"
   ]
  },
  {
   "cell_type": "markdown",
   "metadata": {},
   "source": [
    "Plotting until the final population shows the algorithm seems to have more a less converged, and only a slight improvement has been made."
   ]
  },
  {
   "cell_type": "code",
   "execution_count": null,
   "metadata": {
    "tags": []
   },
   "outputs": [],
   "source": [
    "from pymoo.util.running_metric import RunningMetric\n",
    "\n",
    "running = RunningMetricAnimation(delta_gen=10, \n",
    "                        n_plots=4,\n",
    "                        key_press=False, \n",
    "                        do_show=True)\n",
    "\n",
    "for algorithm in res.history:\n",
    "    running.update(algorithm)"
   ]
  },
  {
   "cell_type": "markdown",
   "metadata": {},
   "source": [
    "## Pareto-front is known or approximated"
   ]
  },
  {
   "cell_type": "markdown",
   "metadata": {},
   "source": [
    "### IGD/GD/IGD+/GD+"
   ]
  },
  {
   "cell_type": "markdown",
   "metadata": {},
   "source": [
    "The Pareto-front for a problem can either be provided manually or directly implemented in the `Problem` definition to analyze the run on the fly. Here, we show an example of using the history of the algorithm as an additional post-processing step."
   ]
  },
  {
   "cell_type": "markdown",
   "metadata": {},
   "source": [
    "For real-world problems, you have to use an **approximation**. An approximation can be obtained by running an algorithm a couple of times and extracting the non-dominated solutions out of all solution sets. If you have only a single run, an alternative is to use the obtained non-dominated set of solutions as an approximation. However, the result only indicates how much the algorithm's progress in converging to the final set."
   ]
  },
  {
   "cell_type": "code",
   "execution_count": null,
   "metadata": {
    "tags": []
   },
   "outputs": [],
   "source": [
    "from pymoo.indicators.igd import IGD\n",
    "\n",
    "metric = IGD(pf, zero_to_one=True)\n",
    "\n",
    "igd = [metric.do(_F) for _F in hist_F]\n",
    "\n",
    "plt.plot(n_evals, igd,  color='black', lw=0.7, label=\"Avg. CV of Pop\")\n",
    "plt.scatter(n_evals, igd,  facecolor=\"none\", edgecolor='black', marker=\"p\")\n",
    "plt.axhline(10**-2, color=\"red\", label=\"10^-2\", linestyle=\"--\")\n",
    "plt.title(\"Convergence\")\n",
    "plt.xlabel(\"Function Evaluations\")\n",
    "plt.ylabel(\"IGD\")\n",
    "plt.yscale(\"log\")\n",
    "plt.legend()\n",
    "plt.show()"
   ]
  },
  {
   "cell_type": "code",
   "execution_count": null,
   "metadata": {
    "tags": []
   },
   "outputs": [],
   "source": [
    "from pymoo.indicators.igd_plus import IGDPlus\n",
    "\n",
    "metric = IGDPlus(pf, zero_to_one=True)\n",
    "\n",
    "igd = [metric.do(_F) for _F in hist_F]\n",
    "\n",
    "plt.plot(n_evals, igd,  color='black', lw=0.7, label=\"Avg. CV of Pop\")\n",
    "plt.scatter(n_evals, igd,  facecolor=\"none\", edgecolor='black', marker=\"p\")\n",
    "plt.axhline(10**-2, color=\"red\", label=\"10^-2\", linestyle=\"--\")\n",
    "plt.title(\"Convergence\")\n",
    "plt.xlabel(\"Function Evaluations\")\n",
    "plt.ylabel(\"IGD+\")\n",
    "plt.yscale(\"log\")\n",
    "plt.legend()\n",
    "plt.show()"
   ]
  }
 ],
 "metadata": {
  "language_info": {
   "codemirror_mode": {
    "name": "ipython",
    "version": 3
   },
   "file_extension": ".py",
   "mimetype": "text/x-python",
   "name": "python",
   "nbconvert_exporter": "python",
   "pygments_lexer": "ipython3"
  }
 },
 "nbformat": 4,
 "nbformat_minor": 4
}
