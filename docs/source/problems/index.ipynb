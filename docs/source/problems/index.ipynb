{
 "cells": [
  {
   "cell_type": "raw",
   "metadata": {
    "raw_mimetype": "text/restructuredtext"
   },
   "source": [
    ".. _nb_problem:"
   ]
  },
  {
   "cell_type": "markdown",
   "metadata": {},
   "source": [
    "## Problems"
   ]
  },
  {
   "cell_type": "raw",
   "metadata": {
    "raw_mimetype": "text/restructuredtext"
   },
   "source": [
    ".. toctree::\n",
    "   :hidden:\n",
    "   :maxdepth: 1\n",
    "   \n",
    "   definition.ipynb\n",
    "   test_problems.ipynb\n",
    "   parallelization.ipynb"
   ]
  },
  {
   "cell_type": "markdown",
   "metadata": {},
   "source": [
    "This part of the documentation describes everything related to defining and making use of optimization problems.\n",
    "Besides an intuitive way of defining your optimization problem, *pymoo* also provides an implementation of many well-known single-, multi- and many-objective optimization problems for benchmarking. "
   ]
  },
  {
   "cell_type": "raw",
   "metadata": {
    "raw_mimetype": "text/restructuredtext"
   },
   "source": [
    ".. admonition:: Overview\n",
    "    :class: myOwnStyle\n",
    "\n",
    "    - `Definition <definition.ipynb>`_: How to define an optimization problem\n",
    "    - `Test Problems <test_problems.ipynb>`_: Single, Multi and Many-objective Test Problems available in *pymoo*\n",
    "    - `Parallelization <parallelization.ipynb>`_: How to parallelize function evaluations"
   ]
  }
 ],
 "metadata": {
  "language_info": {
   "codemirror_mode": {
    "name": "ipython",
    "version": 3
   },
   "file_extension": ".py",
   "mimetype": "text/x-python",
   "name": "python",
   "nbconvert_exporter": "python",
   "pygments_lexer": "ipython3"
  }
 },
 "nbformat": 4,
 "nbformat_minor": 4
}
