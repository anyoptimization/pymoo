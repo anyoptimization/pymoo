{
 "cells": [
  {
   "cell_type": "raw",
   "metadata": {
    "raw_mimetype": "text/restructuredtext"
   },
   "source": [
    ".. _nb_problem_definition:"
   ]
  },
  {
   "cell_type": "markdown",
   "metadata": {},
   "source": [
    "# Definition"
   ]
  },
  {
   "cell_type": "markdown",
   "metadata": {},
   "source": [
    "Problems have to be defined, and some information has to be provided.\n",
    "In contrast to other frameworks, we do not share the opinion of just defining a problem by a function is the most convenient one.\n",
    "In `pymoo` the problem is defined by an **object** that contains some metadata, for instance the number of objectives, constraints, lower and upper bounds in the design space. These attributes are supposed to be defined in the constructor and thus by overriding the `__init__` method.\n"
   ]
  },
  {
   "cell_type": "raw",
   "metadata": {
    "raw_mimetype": "text/restructuredtext"
   },
   "source": [
    ".. csv-table:: Types of Output\n",
    "   :header: \"Argument\", \"Description\"\n",
    "   :widths: 5, 30\n",
    "\n",
    "   :code:`n_var`, \"Integer value representing the number of design variables.\"\n",
    "   :code:`n_obj`, \"Integer value representing the number of objectives.\"\n",
    "   :code:`n_constr`, \"Integer value representing the number of constraints.\"\n",
    "   :code:`xl`,  \"Float or :code:`np.ndarray` of length :code:`n_var` representing the lower bounds of the design variables.\"\n",
    "   :code:`xu`,  \"Float or :code:`np.ndarray` of length :code:`n_var` representing the upper bounds of the design variables.\"\n",
    "   :code:`vtype`, \"(optional) A type hint for the user what variable should be optimized.\""
   ]
  },
  {
   "cell_type": "markdown",
   "metadata": {},
   "source": [
    "Moreover, in *pymoo* there exists three different ways for defining a problem:"
   ]
  },
  {
   "cell_type": "raw",
   "metadata": {
    "raw_mimetype": "text/restructuredtext"
   },
   "source": [
    ".. admonition:: Overview\n",
    "    :class: myOwnStyle\n",
    "\n",
    "    - `Problem <#nb-problem-definition-vectorized>`_: Object-oriented definition :code:`Problem` which implements a method evaluating a **set** of solutions.\n",
    "    - `ElementwiseProblem <#nb-problem-definition-elementwise>`_: Object-oriented definition :code:`ElementwiseProblem` which implements a function evaluating a **single** solution at a time. \n",
    "    - `FunctionalProblem <#nb-problem-definition-functional>`_: Define a problem :code:`FunctionalProblem` by using a **function** for each objective and constraint."
   ]
  },
  {
   "cell_type": "raw",
   "metadata": {
    "raw_mimetype": "text/restructuredtext"
   },
   "source": [
    ".. _nb_problem_definition_vectorized:"
   ]
  },
  {
   "cell_type": "markdown",
   "metadata": {},
   "source": [
    "## Problem (vectorized)"
   ]
  },
  {
   "cell_type": "markdown",
   "metadata": {},
   "source": [
    "The majority of optimization algorithms implemented in *pymoo* are population-based, which means that more than one solution is evaluated in each generation. This is ideal for implementing a parallelization of function evaluations. Thus, the default definition of a problem retrieves a **set** of solutions to be evaluated. The actual function evaluation takes place in the `_evaluate` method, which aims to fill the `out` dictionary with the corresponding data. \n",
    "The function values are supposed to be written into `out[\"F\"]` and the constraints into `out[\"G\"]` if `n_constr` is greater than zero. If another approach is used to compute the function values or the constraints, they must be appropriately converted into a two-dimensional `numpy` array (one dimension for the function values, the other dimension for each element of the population evaluated in the current round). For example, if the function values are written in a regular python list like `F_list = [[<func values for individual 1>], [<func values for individual 2>], ...]`, before returning from the `_evaluate` method, the list must be converted to numpy array with `out[\"F\"] = np.row_stack(F_list_of_lists)`. "
   ]
  },
  {
   "cell_type": "raw",
   "metadata": {
    "raw_mimetype": "text/restructuredtext"
   },
   "source": [
    ".. admonition:: Tip\n",
    "    :class: myOwnStyle\n",
    "\n",
    "    How the objective and constraint values are calculate is **irrelevant** from a pymoo's point of view. Whether it is a simple mathematical equation or a discrete-event simulation, you only have to ensure that for each input the corresponding values have been set."
   ]
  },
  {
   "cell_type": "markdown",
   "metadata": {},
   "source": [
    "The example below shows a modified **Sphere** problem with a radial constraint located at the center. The problem consists of 10 design variables, one objective, one constraint, and the lower and upper bounds of each variable are in the range of 0 and 1. "
   ]
  },
  {
   "cell_type": "code",
   "execution_count": null,
   "metadata": {
    "execution": {
     "iopub.execute_input": "2022-08-01T02:44:03.781016Z",
     "iopub.status.busy": "2022-08-01T02:44:03.780267Z",
     "iopub.status.idle": "2022-08-01T02:44:03.811691Z",
     "shell.execute_reply": "2022-08-01T02:44:03.810731Z"
    },
    "tags": []
   },
   "outputs": [],
   "source": [
    "import numpy as np\n",
    "from pymoo.core.problem import Problem\n",
    "\n",
    "\n",
    "class SphereWithConstraint(Problem):\n",
    "\n",
    "    def __init__(self):\n",
    "        super().__init__(n_var=10, n_obj=1, n_ieq_constr=1, xl=0.0, xu=1.0)\n",
    "\n",
    "    def _evaluate(self, x, out, *args, **kwargs):\n",
    "        out[\"F\"] = np.sum((x - 0.5) ** 2, axis=1)\n",
    "        out[\"G\"] = 0.1 - out[\"F\"]\n"
   ]
  },
  {
   "cell_type": "markdown",
   "metadata": {},
   "source": [
    "Assuming the algorithm being used requests to evaluate a set of solutions of size 100, then the input NumPy matrix `x`  will be of the shape `(100,10)`. Please note that the two-dimensional matrix is summed up on the first axis which results in a vector of length 100 for `out[\"F\"]`. Thus, NumPy performs a vectorized operation on a matrix to speed up the evaluation."
   ]
  },
  {
   "cell_type": "raw",
   "metadata": {
    "raw_mimetype": "text/restructuredtext"
   },
   "source": [
    ".. _nb_problem_definition_elementwise:"
   ]
  },
  {
   "cell_type": "markdown",
   "metadata": {},
   "source": [
    "## ElementwiseProblem (loop)"
   ]
  },
  {
   "cell_type": "code",
   "execution_count": null,
   "metadata": {
    "execution": {
     "iopub.execute_input": "2022-08-01T02:44:03.815453Z",
     "iopub.status.busy": "2022-08-01T02:44:03.815161Z",
     "iopub.status.idle": "2022-08-01T02:44:03.820649Z",
     "shell.execute_reply": "2022-08-01T02:44:03.819994Z"
    },
    "tags": []
   },
   "outputs": [],
   "source": [
    "import numpy as np\n",
    "from pymoo.core.problem import ElementwiseProblem\n",
    "\n",
    "\n",
    "class ElementwiseSphereWithConstraint(ElementwiseProblem):\n",
    "\n",
    "    def __init__(self):\n",
    "        xl = np.zeros(10)\n",
    "        xl[0] = -5.0\n",
    "        \n",
    "        xu = np.ones(10)\n",
    "        xu[0] = 5.0\n",
    "        \n",
    "        super().__init__(n_var=10, n_obj=1, n_ieq_constr=2, xl=xl, xu=xu)\n",
    "\n",
    "    def _evaluate(self, x, out, *args, **kwargs):\n",
    "        out[\"F\"] = np.sum((x - 0.5) ** 2)\n",
    "        out[\"G\"] = np.column_stack([0.1 - out[\"F\"], out[\"F\"] - 0.5])"
   ]
  },
  {
   "cell_type": "markdown",
   "metadata": {},
   "source": [
    "Regardless of the number of solutions being asked to be evaluated, the `_evaluate` function retrieves a vector of length 10. The `_evaluate`, however, will be called for each solution. Implementing an element-wise problem, the [Parallelization](parallelization.ipynb) available in *pymoo* using processes or threads can be directly used.\n",
    "Moreover, note that the problem above uses a vector definition for the lower and upper bounds (`xl` and `xu`) because the first variables should cover a different range of values."
   ]
  },
  {
   "cell_type": "raw",
   "metadata": {
    "raw_mimetype": "text/restructuredtext"
   },
   "source": [
    ".. _nb_problem_definition_functional:"
   ]
  },
  {
   "cell_type": "markdown",
   "metadata": {},
   "source": [
    "## FunctionalProblem (loop)"
   ]
  },
  {
   "cell_type": "markdown",
   "metadata": {},
   "source": [
    "Another way of defining a problem is through functions. One the one hand, many function calls need to be performed to evaluate a set of solutions, but on the other hand, it is a very intuitive way of defining a problem."
   ]
  },
  {
   "cell_type": "code",
   "execution_count": null,
   "metadata": {
    "code": "usage_problem.py",
    "execution": {
     "iopub.execute_input": "2022-08-01T02:44:03.823832Z",
     "iopub.status.busy": "2022-08-01T02:44:03.823553Z",
     "iopub.status.idle": "2022-08-01T02:44:03.832296Z",
     "shell.execute_reply": "2022-08-01T02:44:03.831692Z"
    },
    "section": "from_function",
    "tags": []
   },
   "outputs": [],
   "source": [
    "import numpy as np\n",
    "from pymoo.problems.functional import FunctionalProblem\n",
    "\n",
    "\n",
    "objs = [\n",
    "    lambda x: np.sum((x - 2) ** 2),\n",
    "    lambda x: np.sum((x + 2) ** 2)\n",
    "]\n",
    "\n",
    "constr_ieq = [\n",
    "    lambda x: np.sum((x - 1) ** 2)\n",
    "]\n",
    "\n",
    "n_var = 10\n",
    "\n",
    "problem = FunctionalProblem(n_var,\n",
    "                            objs,\n",
    "                            constr_ieq=constr_ieq,\n",
    "                            xl=np.array([-10, -5, -10]),\n",
    "                            xu=np.array([10, 5, 10])\n",
    "                            )\n",
    "\n",
    "F, G = problem.evaluate(np.random.rand(3, 10))\n",
    "\n",
    "print(f\"F: {F}\\n\")\n",
    "print(f\"G: {G}\\n\")"
   ]
  },
  {
   "cell_type": "markdown",
   "metadata": {},
   "source": [
    "## Add Known Optima"
   ]
  },
  {
   "cell_type": "markdown",
   "metadata": {},
   "source": [
    "If the optimum for a problem is known, this can be directly defined in the `Problem` class. Below, an example shows the test problem `ZDT1` where the Pareto-front has been analytically derived and discussed in the paper. Thus, the `_calc_pareto_front` method returns the Pareto-front."
   ]
  },
  {
   "cell_type": "code",
   "execution_count": null,
   "metadata": {
    "execution": {
     "iopub.execute_input": "2022-08-01T02:44:03.835388Z",
     "iopub.status.busy": "2022-08-01T02:44:03.835120Z",
     "iopub.status.idle": "2022-08-01T02:44:03.840392Z",
     "shell.execute_reply": "2022-08-01T02:44:03.839751Z"
    },
    "tags": []
   },
   "outputs": [],
   "source": [
    "class ZDT1(Problem):\n",
    "    \n",
    "    def __init__(self, n_var=30, **kwargs):\n",
    "        super().__init__(n_var=n_var, n_obj=2, n_ieq_constr=0, xl=0, xu=1, vtype=float, **kwargs)\n",
    "\n",
    "    def _calc_pareto_front(self, n_pareto_points=100):\n",
    "        x = np.linspace(0, 1, n_pareto_points)\n",
    "        return np.array([x, 1 - np.sqrt(x)]).T\n",
    "\n",
    "    def _evaluate(self, x, out, *args, **kwargs):\n",
    "        f1 = x[:, 0]\n",
    "        g = 1 + 9.0 / (self.n_var - 1) * np.sum(x[:, 1:], axis=1)\n",
    "        f2 = g * (1 - np.power((f1 / g), 0.5))\n",
    "\n",
    "        out[\"F\"] = np.column_stack([f1, f2])\n"
   ]
  },
  {
   "cell_type": "markdown",
   "metadata": {},
   "source": [
    "## API"
   ]
  },
  {
   "cell_type": "raw",
   "metadata": {
    "raw_mimetype": "text/restructuredtext"
   },
   "source": [
    ".. class:: pymoo.core.problem.Problem\n",
    "\n",
    "   .. automethod:: evaluate(X)\n",
    "   .. automethod:: pareto_front(X)\n"
   ]
  }
 ],
 "metadata": {},
 "nbformat": 4,
 "nbformat_minor": 4
}
