{
 "cells": [
  {
   "cell_type": "markdown",
   "metadata": {
    "raw_mimetype": "text/restructuredtext"
   },
   "source": [
    ".. _nb_callback:"
   ]
  },
  {
   "cell_type": "markdown",
   "metadata": {},
   "source": [
    "## Callback"
   ]
  },
  {
   "cell_type": "markdown",
   "metadata": {},
   "source": [
    "A `Callback` class can be used to receive a notification of the algorithm object each generation.\n",
    "This can be useful to track metrics, do additional calculations, or even modify the algorithm object during the run.\n",
    "The latter is only recommended for experienced users.\n",
    "\n",
    "The example below implements a less memory-intense version of keeping track of the convergence. A posteriori analysis can one the one hand, be done by using the `save_history=True` option. This, however, stores a deep copy of the `Algorithm` object in each iteration. This might be more information than necessary, and thus, the `Callback` allows to select only the information necessary to be analyzed when the run has terminated. Another good use case can be to visualize data in each iteration in real-time."
   ]
  },
  {
   "cell_type": "raw",
   "metadata": {
    "raw_mimetype": "text/restructuredtext"
   },
   "source": [
    ".. admonition:: Tip\n",
    "    :class: myOwnStyle\n",
    "\n",
    "    The callback has **full** access to the algorithm object and thus can also alter it. However, the callback's purpose is not to customize an algorithm but to store or process data."
   ]
  },
  {
   "cell_type": "code",
   "execution_count": null,
   "metadata": {
    "tags": []
   },
   "outputs": [],
   "source": [
    "import matplotlib.pyplot as plt\n",
    "import numpy as np\n",
    "\n",
    "from pymoo.algorithms.soo.nonconvex.ga import GA\n",
    "from pymoo.problems import get_problem\n",
    "from pymoo.core.callback import Callback\n",
    "from pymoo.optimize import minimize\n",
    "\n",
    "\n",
    "class MyCallback(Callback):\n",
    "\n",
    "    def __init__(self) -> None:\n",
    "        super().__init__()\n",
    "        self.data[\"best\"] = []\n",
    "\n",
    "    def notify(self, algorithm):\n",
    "        self.data[\"best\"].append(algorithm.pop.get(\"F\").min())\n",
    "\n",
    "\n",
    "problem = get_problem(\"sphere\")\n",
    "\n",
    "algorithm = GA(pop_size=100)\n",
    "\n",
    "res = minimize(problem,\n",
    "               algorithm,\n",
    "               ('n_gen', 20),\n",
    "               seed=1,\n",
    "               callback=MyCallback(),\n",
    "               verbose=True)\n",
    "\n",
    "val = res.algorithm.callback.data[\"best\"]\n",
    "plt.plot(np.arange(len(val)), val)\n",
    "plt.show()\n",
    "\n"
   ]
  },
  {
   "cell_type": "markdown",
   "metadata": {},
   "source": [
    "**Note** that the `Callback` object from the `Result` object needs to be accessed `res.algorithm.callback` because the original object keeps unmodified to ensure reproducibility."
   ]
  },
  {
   "cell_type": "markdown",
   "metadata": {},
   "source": [
    "For completeness, the history-based convergence analysis looks as follows:"
   ]
  },
  {
   "cell_type": "code",
   "execution_count": null,
   "metadata": {},
   "outputs": [],
   "source": [
    "res = minimize(problem,\n",
    "               algorithm,\n",
    "               ('n_gen', 20),\n",
    "               seed=1,\n",
    "               save_history=True)\n",
    "\n",
    "val = [e.opt.get(\"F\")[0] for e in res.history]\n",
    "plt.plot(np.arange(len(val)), val)\n",
    "plt.show()"
   ]
  }
 ],
 "metadata": {
  "language_info": {
   "codemirror_mode": {
    "name": "ipython",
    "version": 3
   },
   "file_extension": ".py",
   "mimetype": "text/x-python",
   "name": "python",
   "nbconvert_exporter": "python",
   "pygments_lexer": "ipython3"
  }
 },
 "nbformat": 4,
 "nbformat_minor": 4
}
