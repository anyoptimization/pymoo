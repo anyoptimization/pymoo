{
 "cells": [
  {
   "cell_type": "raw",
   "metadata": {
    "raw_mimetype": "text/restructuredtext"
   },
   "source": [
    ".. _nb_interface:"
   ]
  },
  {
   "cell_type": "markdown",
   "metadata": {},
   "source": [
    "## Interface"
   ]
  },
  {
   "cell_type": "raw",
   "metadata": {
    "raw_mimetype": "text/restructuredtext"
   },
   "source": [
    "\n",
    ".. toctree::\n",
    "   :maxdepth: 1\n",
    "   :hidden:\n",
    "   \n",
    "   minimize.ipynb\n",
    "   problem.ipynb\n",
    "   algorithm.ipynb\n",
    "   termination.ipynb\n",
    "   callback.ipynb\n",
    "   display.ipynb\n",
    "   result.ipynb\n",
    "   \n"
   ]
  },
  {
   "cell_type": "markdown",
   "metadata": {},
   "source": [
    "The functional interface of *pymoo* is based on a method called `minimize`, which abstracts any kind of optimization procedure in the framework. Each component of the functional interface is described in detail in the following. The guide starts with the `minimize` function itself, continues with the required and optional parameters, and ends with the `Result` object. "
   ]
  },
  {
   "cell_type": "raw",
   "metadata": {
    "raw_mimetype": "text/restructuredtext"
   },
   "source": [
    ".. admonition:: Overview\n",
    "    :class: myOwnStyle\n",
    "\n",
    "    - `minimize <minimize.ipynb>`_: This is the functional interface to optimized any kind of problem. The function itself two positional parameters, problem and algorithm, and a few more optional parameters.\n",
    "    - `Problem <problem.ipynb>`_: A problem object defining what to be optimized. \n",
    "    - `Algorithm <algorithm.ipynb>`_: The algorithm which shall be used for optimization. Make sure to choose a suitable algorithm for your optimization problem to ensure efficient convergence. \n",
    "    - `Termination Criterion <termination.ipynb>`_: When the algorithm should be considered as terminated. The termination can be simply based on the algorithm's number of iterations, an upper bound of function evaluations, or more sophisticated procedures.\n",
    "    - `Callback <callback.ipynb>`_: How to access intermediate result during optimization to keep track of the algorithm itself or modify attributes of the algorithm dynamically.\n",
    "    - `Display <display.ipynb>`_: When `verbose=True`, then the algorithm prints out some information in each iteration. The printout is different depending on if it is a single or multi-objective optimization problem and if the Pareto-front is known or unknown.\n",
    "    - `Result <result.ipynb>`_: The result object being returned by the minimize method. Access to the optimum/optima found and some more information such as the running time or even the whole algorithm's run history."
   ]
  },
  {
   "cell_type": "markdown",
   "metadata": {},
   "source": [
    "Please note that besides the **functional** interface, *pymoo* also has an **object-oriented** interface (more information [here](../algorithms/index.ipynb)) for running an optimization algorithm. Both have their upsides and downsides, and one can be more convenient to use than another in specific situations. The functional interface allows optimization just in a few lines; the object-oriented interface allows quickly to alter an existing algorithm's behavior."
   ]
  }
 ],
 "metadata": {
  "language_info": {
   "codemirror_mode": {
    "name": "ipython",
    "version": 3
   },
   "file_extension": ".py",
   "mimetype": "text/x-python",
   "name": "python",
   "nbconvert_exporter": "python",
   "pygments_lexer": "ipython3"
  }
 },
 "nbformat": 4,
 "nbformat_minor": 4
}
