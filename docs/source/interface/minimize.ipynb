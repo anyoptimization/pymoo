{
 "cells": [
  {
   "cell_type": "markdown",
   "metadata": {
    "raw_mimetype": "text/restructuredtext"
   },
   "source": [
    ".. _nb_interface_minimize:"
   ]
  },
  {
   "cell_type": "markdown",
   "metadata": {},
   "source": [
    "## Minimize\n",
    "\n"
   ]
  },
  {
   "cell_type": "markdown",
   "metadata": {},
   "source": [
    "The `minimize` function provides the external interface for any kind of optimization to be performed. The minimize method arguments and options look as follows:"
   ]
  },
  {
   "cell_type": "markdown",
   "metadata": {},
   "source": [
    "```python\n",
    "def minimize(problem,\n",
    "             algorithm,\n",
    "             termination=None,\n",
    "             seed=None,\n",
    "             verbose=False,\n",
    "             display=None,\n",
    "             callback=None,\n",
    "             return_least_infeasible=False,\n",
    "             save_history=False\n",
    "             )\n",
    "```"
   ]
  },
  {
   "cell_type": "markdown",
   "metadata": {},
   "source": [
    "- `problem`: A [Problem](../problems/index.ipynb)  object that contains the problem to be solved.\n",
    "- `algorithm`: An [Algorithm](../algorithms/index.ipynb) objective which represents the algorithm to be used.\n",
    "- `termination`: A [Termination](termination.ipynb) object or a tuple defining when the algorithm has terminated. If not provided, a default termination criterion will be used. Purposefully, we list the *termination* as a parameter and not an option. Specific algorithms might need some refinement of the termination to work reliably. \n",
    "- `seed`: Most algorithms underly some randomness. Setting the *seed* to a positive integer value ensures reproducible results. If not provided, a random seed will be set automatically, and the used integer will be stored in the [Result](result.ipynb) object.\n",
    "- `verbose`: Boolean value defining whether the output should be printed during the run or not.\n",
    "- `display`: You can overwrite what output is supposed to be printed in each iteration. Therefore, a custom [Display](display.ipynb) object can be used for customization purposes. \n",
    "- `save_history`: A boolean value representing whether a snapshot of the algorithm should be stored in each iteration. If enabled, the [Result](result.ipynb) object contains the history.\n",
    "- `return_least_infeasible`: Whether if the algorithm can not find a feasible solution, the least infeasible solution should be returned. By default `False`."
   ]
  },
  {
   "cell_type": "markdown",
   "metadata": {},
   "source": [
    "Note, the `minimize` function creates a **deep copy** of the algorithm object before the run.\n",
    "This ensures that two independent runs with the same algorithm and same random seed have the same results without any side effects. However, to access the algorithm's internals, you can access the object being used by `res.algorithm` where `res` is an instance of the [Result](result.ipynb) object."
   ]
  },
  {
   "cell_type": "markdown",
   "metadata": {},
   "source": [
    "### API"
   ]
  },
  {
   "cell_type": "raw",
   "metadata": {
    "raw_mimetype": "text/restructuredtext"
   },
   "source": [
    ".. autofunction:: pymoo.optimize.minimize"
   ]
  }
 ],
 "metadata": {
  "language_info": {
   "codemirror_mode": {
    "name": "ipython",
    "version": 3
   },
   "file_extension": ".py",
   "mimetype": "text/x-python",
   "name": "python",
   "nbconvert_exporter": "python",
   "pygments_lexer": "ipython3"
  }
 },
 "nbformat": 4,
 "nbformat_minor": 4
}
