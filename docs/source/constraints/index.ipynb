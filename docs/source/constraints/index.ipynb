{
 "cells": [
  {
   "cell_type": "raw",
   "metadata": {
    "raw_mimetype": "text/restructuredtext"
   },
   "source": [
    ".. _nb_constraints:"
   ]
  },
  {
   "cell_type": "markdown",
   "metadata": {
    "tags": []
   },
   "source": [
    "## Constraint Handling"
   ]
  },
  {
   "cell_type": "raw",
   "metadata": {
    "raw_mimetype": "text/restructuredtext"
   },
   "source": [
    ".. admonition:: Info\n",
    "    :class: myOwnStyle\n",
    "\n",
    "    Note that since version **0.6.0**, the problem attribute *n_constr* has been replaced by *n_ieq_constr* and *n_eq_constr* to define either the number of inequality or equality constraints."
   ]
  },
  {
   "cell_type": "raw",
   "metadata": {
    "raw_mimetype": "text/restructuredtext",
    "tags": []
   },
   "source": [
    "\n",
    ".. toctree::\n",
    "   :maxdepth: 1\n",
    "   :hidden:\n",
    "   \n",
    "   problem.ipynb\n",
    "   feas_first.ipynb\n",
    "   as_penalty.ipynb\n",
    "   as_obj.ipynb\n",
    "   eps.ipynb\n",
    "   repair.ipynb\n",
    "   \n",
    "   "
   ]
  },
  {
   "cell_type": "markdown",
   "metadata": {},
   "source": [
    "**Constraint Handling** is essential for solving a real-world optimization problem. Different ways have been proposed in the literature to deal with inequality and equality constraints during optimization. A few ways will be described in this tutorial to give users of *pymoo* a starting point for how to solve optimization problems with constraints."
   ]
  },
  {
   "cell_type": "markdown",
   "metadata": {},
   "source": [
    "In this tutorial, we are going to have a look at the following constrained single-objective optimization problem:"
   ]
  },
  {
   "cell_type": "markdown",
   "metadata": {},
   "source": [
    "\\begin{align} \n",
    "\\begin{split}\n",
    "\\max \\;\\; & f(x) = x_1^2 + x_2^2 \\\\[1mm]\n",
    "\\text{s.t.} \\;\\; & g(x) : x_1 + x_2 \\geq 1 \\\\[2mm]\n",
    "& 0 \\leq x_1 \\leq 2 \\\\\n",
    "& 0 \\leq x_2 \\leq 2 \n",
    "\\end{split}\n",
    "\\end{align}"
   ]
  },
  {
   "cell_type": "code",
   "execution_count": null,
   "metadata": {
    "tags": []
   },
   "outputs": [],
   "source": [
    "from pymoo.core.problem import ElementwiseProblem\n",
    "\n",
    "class ConstrainedProblem(ElementwiseProblem):\n",
    "\n",
    "    def __init__(self, **kwargs):\n",
    "        super().__init__(n_var=2, n_obj=1, n_ieq_constr=1, n_eq_constr=0, xl=0, xu=2, **kwargs)\n",
    "\n",
    "    def _evaluate(self, x, out, *args, **kwargs):\n",
    "        out[\"F\"] = x[0] ** 2 + x[1] ** 2\n",
    "        out[\"G\"] = 1.0 - (x[0] + x[1])"
   ]
  },
  {
   "cell_type": "markdown",
   "metadata": {},
   "source": [
    "For the problem defined above, the inequality constraint ensures that $1.0 - (x_1 + x_2) \\leq 0.0$ or in other words $x_1 + x_2 \\geq 1.0$. The objective functions wants to minimize the sum of both variables squared and thus the contour plot looks as follows:"
   ]
  },
  {
   "cell_type": "code",
   "execution_count": null,
   "metadata": {},
   "outputs": [],
   "source": [
    "import numpy as np\n",
    "import matplotlib.pyplot as plt\n",
    "\n",
    "X1, X2 = np.meshgrid(np.linspace(0, 2, 500), np.linspace(0, 2, 500))\n",
    "\n",
    "F = X1**2 + X2**2\n",
    "plt.rc('font', family='serif')\n",
    "\n",
    "levels = 5 * np.linspace(0, 1, 10)\n",
    "plt.figure(figsize=(7, 5))\n",
    "CS = plt.contour(X1, X2, F, levels, colors='black', alpha=0.5)\n",
    "CS.collections[0].set_label(\"$f(x)$\")\n",
    "\n",
    "X = np.linspace(0, 1, 500)\n",
    "plt.plot(X, 1-X, linewidth=2.0, color=\"green\", linestyle='dotted', label=\"g(x)\")\n",
    "\n",
    "plt.scatter([0.5], [0.5], marker=\"*\", color=\"red\", s=200, label=\"Optimum (0.5, 0.5)\")\n",
    "\n",
    "plt.xlim(0, 2)\n",
    "plt.ylim(0, 2)\n",
    "plt.xlabel(\"$x_1$\")\n",
    "plt.ylabel(\"$x_2$\")\n",
    "\n",
    "plt.legend(loc='upper center', bbox_to_anchor=(0.5, 1.12),\n",
    "          ncol=4, fancybox=True, shadow=False)\n",
    "\n",
    "plt.tight_layout()\n",
    "plt.show()"
   ]
  },
  {
   "cell_type": "markdown",
   "metadata": {},
   "source": [
    "The optimal solution is given by: $x^{(opt)} = (0.5, 0.5)$ with an objective value $f(x^{(opt)}) = 0.5$"
   ]
  },
  {
   "cell_type": "markdown",
   "metadata": {},
   "source": [
    "Now let us introduce another constraint, this time an equality constraint."
   ]
  },
  {
   "cell_type": "raw",
   "metadata": {
    "raw_mimetype": "text/restructuredtext",
    "tags": []
   },
   "source": [
    ".. note::\n",
    "   Next, most algorithms in *pymoo* will not handle equality constraints efficiently. One reason is the strictness of equality constraints with makes it especially challenging to handle them when solving black-box optimization problems. "
   ]
  },
  {
   "cell_type": "markdown",
   "metadata": {},
   "source": [
    "\\begin{align} \n",
    "\\begin{split}\n",
    "\\max \\;\\; & f(x) = x_1^2 + x_2^2 \\\\[1mm]\n",
    "\\text{s.t.} \\;\\; & g(x) : x_1 + x_2 \\geq 1 \\\\[2mm]\n",
    "\\;\\; & h(x): 3 x_1 - x_2 = 0 \\\\[2mm]\n",
    "& 0 \\leq x_1 \\leq 2 \\\\\n",
    "& 0 \\leq x_2 \\leq 2 \n",
    "\\end{split}\n",
    "\\end{align}"
   ]
  },
  {
   "cell_type": "code",
   "execution_count": null,
   "metadata": {},
   "outputs": [],
   "source": [
    "class ConstrainedProblemWithEquality(ElementwiseProblem):\n",
    "\n",
    "    def __init__(self, **kwargs):\n",
    "        super().__init__(n_var=2, n_obj=1, n_ieq_constr=1, n_eq_constr=1, xl=0, xu=1, **kwargs)\n",
    "\n",
    "    def _evaluate(self, x, out, *args, **kwargs):\n",
    "        out[\"F\"] = x[0] + x[1]\n",
    "        out[\"G\"] = 1.0 - (x[0] + x[1])\n",
    "        out[\"H\"] = 3 * x[0] - x[1]"
   ]
  },
  {
   "cell_type": "markdown",
   "metadata": {},
   "source": [
    "The equality constraint is only satisfied if $3 \\cdot x_1 - x_2 \\approx 0$ or in other words $3\\cdot x_1 \\approx x_2$. "
   ]
  },
  {
   "cell_type": "code",
   "execution_count": null,
   "metadata": {},
   "outputs": [],
   "source": [
    "import numpy as np\n",
    "import matplotlib.pyplot as plt\n",
    "\n",
    "X1, X2 = np.meshgrid(np.linspace(0, 2, 500), np.linspace(0, 2, 500))\n",
    "\n",
    "F = X1**2 + X2**2\n",
    "plt.rc('font', family='serif')\n",
    "\n",
    "levels = 5 * np.linspace(0, 1, 10)\n",
    "plt.figure(figsize=(7, 5))\n",
    "CS = plt.contour(X1, X2, F, levels, colors='black', alpha=0.5)\n",
    "CS.collections[0].set_label(\"$f(x)$\")\n",
    "\n",
    "X = np.linspace(0, 1, 500)\n",
    "plt.plot(X, 1-X, linewidth=2.0, color=\"green\", linestyle='dotted', label=\"g(x)\")\n",
    "plt.plot(X, 3*X, linewidth=2.0, color=\"blue\", linestyle='dotted', label=\"h(x)\")\n",
    "\n",
    "plt.scatter([0.25], [0.75], marker=\"*\", color=\"red\", s=200, label=\"Optimum (0.5, 0.5)\")\n",
    "\n",
    "plt.xlim(0, 2)\n",
    "plt.ylim(0, 2)\n",
    "plt.xlabel(\"$x_1$\")\n",
    "plt.ylabel(\"$x_2$\")\n",
    "\n",
    "plt.legend(loc='upper center', bbox_to_anchor=(0.5, 1.12),\n",
    "          ncol=4, fancybox=True, shadow=False)\n",
    "\n",
    "plt.tight_layout()\n",
    "plt.show()"
   ]
  },
  {
   "cell_type": "markdown",
   "metadata": {},
   "source": [
    "The two constrained problems above will be used from now on and solved using different approaches."
   ]
  },
  {
   "cell_type": "raw",
   "metadata": {
    "raw_mimetype": "text/restructuredtext"
   },
   "source": [
    ".. admonition:: Overview\n",
    "    :class: myOwnStyle\n",
    "\n",
    "    - `Feasibility First <feas_first.ipynb>`_: This is how most algorithms in pymoo handle constraints. Because most of them are based on the sorting of individuals, they simply always prefer feasible solutions over infeasible ones (no matter how much a solution is infeasible). This is a very greedy approach; however, easy to implement across many algorithms in a framework.\n",
    "\n",
    "    - `Penalty <as_penalty.ipynb>`_: The optimization problem is redefined by adding a penalty to the objective values. This results in an unconstraint problem that the majority of solvers can handle. \n",
    "\n",
    "    - `Constraint Violation (CV) As Objective <as_obj.ipynb>`_: Another way of considering constraints is treating the constraint violation as an additional objective. This results in a multi-objective problem with one more objective to be solved.\n",
    "\n",
    "    - `eps-Constraint Handling <eps.ipynb>`_: Use a dynamic threshold to decide whether a solution is feasible or not. This needs to be implemented by the algorithm.\n",
    "\n",
    "    - `Repair Operator <repair.ipynb>`_: Repair a solution to satisfy all (or most) constraints.\n",
    "    \n",
    "    -  Algorithm directly proposed to handled different type of constraints: `SRES <../algorithms/soo/sres.ipynb>`_, `ISRES <../algorithms/soo/isres.ipynb>`_"
   ]
  }
 ],
 "metadata": {
  "language_info": {
   "codemirror_mode": {
    "name": "ipython",
    "version": 3
   },
   "file_extension": ".py",
   "mimetype": "text/x-python",
   "name": "python",
   "nbconvert_exporter": "python",
   "pygments_lexer": "ipython3"
  }
 },
 "nbformat": 4,
 "nbformat_minor": 4
}
