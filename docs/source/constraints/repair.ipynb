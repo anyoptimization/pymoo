{
 "cells": [
  {
   "cell_type": "raw",
   "id": "d8b54188-9c5d-494d-8435-aea1ccacb125",
   "metadata": {
    "raw_mimetype": "text/restructuredtext"
   },
   "source": [
    ".. _nb_repair:"
   ]
  },
  {
   "cell_type": "code",
   "execution_count": null,
   "id": "d2e220b4-b2af-4278-bb4f-e5936312ced3",
   "metadata": {
    "tags": []
   },
   "outputs": [],
   "source": [
    "%%capture\n",
    "%run ./index.ipynb"
   ]
  },
  {
   "cell_type": "markdown",
   "id": "be5e07d8-23af-4361-9f4e-5982a8a1ab40",
   "metadata": {
    "tags": []
   },
   "source": [
    "## Repair Operator "
   ]
  },
  {
   "cell_type": "markdown",
   "id": "c985afe1-bad1-4689-a929-ae145f2d2bda",
   "metadata": {},
   "source": [
    "A simple approach is to handle constraints through a repair function. This is only possible if the equation of the constraint is known. The repair makes sure every solution that is evaluated is, in fact, feasible. Let us consider the equality constraint example."
   ]
  },
  {
   "cell_type": "markdown",
   "id": "809cfc24-3172-43b8-918d-b29c63383951",
   "metadata": {},
   "source": [
    "Let us define a `Repair` operator that always satisfies the equality constraint (the inequality constraint is simply ignored and will be figured out by the algorithm)"
   ]
  },
  {
   "cell_type": "code",
   "execution_count": null,
   "id": "c0ef1df3-f2d9-4a20-92a4-5684e5032e23",
   "metadata": {
    "tags": []
   },
   "outputs": [],
   "source": [
    "from pymoo.core.repair import Repair\n",
    "\n",
    "class MyRepair(Repair):\n",
    "\n",
    "    def _do(self, problem, X, **kwargs):\n",
    "        X[:, 0] = 1/3 * X[:, 1]\n",
    "        return X"
   ]
  },
  {
   "cell_type": "markdown",
   "id": "c70b48e2-9ee4-4c58-a5f6-d5de74ac33c6",
   "metadata": {},
   "source": [
    "Now the algorithm object needs to be initialized with the `Repair` operator and then can be run to solve the problem:"
   ]
  },
  {
   "cell_type": "code",
   "execution_count": null,
   "id": "54068131-6224-48b0-9608-01546a096b38",
   "metadata": {
    "tags": []
   },
   "outputs": [],
   "source": [
    "from pymoo.algorithms.soo.nonconvex.ga import GA\n",
    "from pymoo.optimize import minimize\n",
    "\n",
    "algorithm = GA(repair=MyRepair())\n",
    "\n",
    "res = minimize(ConstrainedProblemWithEquality(),\n",
    "               algorithm,\n",
    "               ('n_gen', 20),\n",
    "               seed=1,\n",
    "               verbose=True)\n",
    "\n",
    "print(\"Best solution found: \\nX = %s\\nF = %s\\nCV = %s\" % (res.X, res.F, res.CV))"
   ]
  },
  {
   "cell_type": "markdown",
   "id": "08e4d68b-1044-444a-9453-d6c8959d5e5c",
   "metadata": {},
   "source": [
    "If you would like to compare the solution without a repair you will see how searching only in the feasible space helps:"
   ]
  },
  {
   "cell_type": "code",
   "execution_count": null,
   "id": "18e818b8-73cd-4a48-9567-21f76ac9cf3d",
   "metadata": {
    "tags": []
   },
   "outputs": [],
   "source": [
    "from pymoo.algorithms.soo.nonconvex.ga import GA\n",
    "from pymoo.optimize import minimize\n",
    "\n",
    "\n",
    "algorithm = GA()\n",
    "\n",
    "res = minimize(ConstrainedProblemWithEquality(),\n",
    "               algorithm,\n",
    "               ('n_gen', 20),\n",
    "               seed=1,\n",
    "               verbose=True)\n",
    "\n",
    "print(\"Best solution found: \\nX = %s\\nF = %s\\nCV = %s\" % (res.X, res.F, res.CV))"
   ]
  }
 ],
 "metadata": {
  "language_info": {
   "codemirror_mode": {
    "name": "ipython",
    "version": 3
   },
   "file_extension": ".py",
   "mimetype": "text/x-python",
   "name": "python",
   "nbconvert_exporter": "python",
   "pygments_lexer": "ipython3"
  }
 },
 "nbformat": 4,
 "nbformat_minor": 5
}
