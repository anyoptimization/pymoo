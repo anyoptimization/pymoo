{
 "cells": [
  {
   "cell_type": "raw",
   "metadata": {
    "raw_mimetype": "text/restructuredtext"
   },
   "source": [
    ".. _nb_operators:"
   ]
  },
  {
   "cell_type": "markdown",
   "metadata": {},
   "source": [
    "## Operators"
   ]
  },
  {
   "cell_type": "raw",
   "metadata": {
    "raw_mimetype": "text/restructuredtext"
   },
   "source": [
    ".. toctree::\n",
    "   :maxdepth: 1\n",
    "   :hidden:\n",
    "\n",
    "   sampling.ipynb\n",
    "   selection.ipynb\n",
    "   crossover.ipynb\n",
    "   mutation.ipynb\n",
    "   repair.ipynb"
   ]
  },
  {
   "cell_type": "markdown",
   "metadata": {},
   "source": [
    "\n",
    "\n",
    "Operators are the key to customize genetic algorithms. In the following the different type of operators are listed. For details about each operator we refer to our corresponding documentation."
   ]
  },
  {
   "cell_type": "markdown",
   "metadata": {},
   "source": [
    "### Sampling"
   ]
  },
  {
   "cell_type": "markdown",
   "metadata": {},
   "source": [
    "|Name|Convenience|\n",
    "|---|---|\n",
    "|[Random](sampling.ipynb)|\"(real\\|int\\|real)_random\"|\n",
    "|[Latin Hypercube Sampling](sampling.ipynb)|\"real_lhs\"|\n",
    "|[Random Permutation Sampling](sampling.ipynb)|\"perm_random\"|"
   ]
  },
  {
   "cell_type": "markdown",
   "metadata": {},
   "source": [
    "### Selection"
   ]
  },
  {
   "cell_type": "markdown",
   "metadata": {},
   "source": [
    "|Name|Convenience|\n",
    "|---|---|\n",
    "|[Random](selection.ipynb)|\"random\"|\n",
    "|[Tournament Selection](selection.ipynb)|\"tournament\"|"
   ]
  },
  {
   "cell_type": "markdown",
   "metadata": {},
   "source": [
    "### Mutation"
   ]
  },
  {
   "cell_type": "markdown",
   "metadata": {},
   "source": [
    "|Name|Convenience|\n",
    "|---|---|\n",
    "|[Polynomial](mutation.ipynb)|\"(real\\|int)_pm\"|\n",
    "|[Bitflip](mutation.ipynb)|\"bin_bitflip\"|\n",
    "|[Inverse Mutation](mutation.ipynb)|\"perm_inv\"|"
   ]
  },
  {
   "cell_type": "markdown",
   "metadata": {},
   "source": [
    "### Crossover"
   ]
  },
  {
   "cell_type": "markdown",
   "metadata": {},
   "source": [
    "|Name|Convenience|\n",
    "|---|---|\n",
    "|[Simulated Binary](crossover.ipynb)|\"(real\\|int)_sbx\"|\n",
    "|[Uniform](crossover.ipynb)|\"(real\\|bin\\|int)_ux\"|\n",
    "|[Half Uniform](crossover.ipynb)|\"(bin\\|int)_hux\"|\n",
    "|[Differential Evolution](crossover.ipynb)|\"real_de\"|\n",
    "|[One Point](crossover.ipynb)|\"(real\\|int\\|real)_one_point\"|\n",
    "|[Two Point](crossover.ipynb)|\"(real\\|int\\|real)_two_point\"|\n",
    "|[K Point](crossover.ipynb)|\"(real\\|int\\|real)_k_point\"|\n",
    "|[Exponential](crossover.ipynb)|\"(real\\|bin\\|int)_exp\"|\n",
    "|[Order Crossover](crossover.ipynb)|\"perm_ox\"|\n",
    "|[Edge Recombination Crossover](crossover.ipynb)|\"perm_erx\"|"
   ]
  }
 ],
 "metadata": {
  "language_info": {
   "codemirror_mode": {
    "name": "ipython",
    "version": 3
   },
   "file_extension": ".py",
   "mimetype": "text/x-python",
   "name": "python",
   "nbconvert_exporter": "python",
   "pygments_lexer": "ipython3"
  }
 },
 "nbformat": 4,
 "nbformat_minor": 4
}
