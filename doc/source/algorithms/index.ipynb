{
 "cells": [
  {
   "cell_type": "raw",
   "metadata": {
    "raw_mimetype": "text/restructuredtext"
   },
   "source": [
    ".. _nb_algorithms:"
   ]
  },
  {
   "cell_type": "markdown",
   "metadata": {},
   "source": [
    "# Algorithms"
   ]
  },
  {
   "cell_type": "raw",
   "metadata": {
    "raw_mimetype": "text/restructuredtext"
   },
   "source": [
    ".. toctree::\n",
    "   :hidden:\n",
    "   :maxdepth: 1\n",
    "\n",
    "   genetic_algorithm\n",
    "   differential_evolution\n",
    "   nelder_mead\n",
    "   pso\n",
    "   pattern_search\n",
    "   cmaes\n",
    "   nsga2\n",
    "   rnsga2\n",
    "   nsga3\n",
    "   unsga3\n",
    "   rnsga3\n",
    "   moead\n",
    "   ctaea\n",
    "   brkga\n",
    "   agemoea\n"
   ]
  },
  {
   "cell_type": "markdown",
   "metadata": {},
   "source": [
    "In *pymoo*, you can find a variety of unconstrained and constrained single-, multi-, and many-objective optimization algorithms. An algorithm can be either initialized using the **convenience** or directly by constructing an **object**."
   ]
  },
  {
   "cell_type": "markdown",
   "metadata": {},
   "source": [
    "**Convenience**"
   ]
  },
  {
   "cell_type": "code",
   "execution_count": 1,
   "metadata": {
    "execution": {
     "iopub.execute_input": "2021-04-13T12:01:32.100103Z",
     "iopub.status.busy": "2021-04-13T12:01:32.099524Z",
     "iopub.status.idle": "2021-04-13T12:01:32.487819Z",
     "shell.execute_reply": "2021-04-13T12:01:32.488135Z"
    }
   },
   "outputs": [],
   "source": [
    "from pymoo.factory import get_algorithm\n",
    "algorithm = get_algorithm(\"nsga2\")"
   ]
  },
  {
   "cell_type": "markdown",
   "metadata": {},
   "source": [
    "**Object (e.g. for NSGA-II)**"
   ]
  },
  {
   "cell_type": "code",
   "execution_count": 2,
   "metadata": {
    "execution": {
     "iopub.execute_input": "2021-04-13T12:01:32.492672Z",
     "iopub.status.busy": "2021-04-13T12:01:32.492242Z",
     "iopub.status.idle": "2021-04-13T12:01:32.495213Z",
     "shell.execute_reply": "2021-04-13T12:01:32.495530Z"
    }
   },
   "outputs": [],
   "source": [
    "from pymoo.algorithms.moo.nsga2 import NSGA2\n",
    "algorithm = NSGA2()"
   ]
  },
  {
   "cell_type": "markdown",
   "metadata": {},
   "source": [
    "Please the the list of algorithms below for all algorithms available in *pymoo*."
   ]
  },
  {
   "cell_type": "raw",
   "metadata": {
    "raw_mimetype": "text/restructuredtext"
   },
   "source": [
    ".. admonition:: Tip\n",
    "    :class: myOwnStyle\n",
    "\n",
    "    Finding a suitable algorithm might **not** be **straightforward** and require some literature research. Moreover, do not forget all algorithms have more and less critical hyper-parameter, which might need to be tuned for your optimization problems to make them work more efficiently."
   ]
  },
  {
   "cell_type": "raw",
   "metadata": {
    "raw_mimetype": "text/restructuredtext"
   },
   "source": [
    ".. csv-table:: Algorithms available in pymoo\n",
    "   :header: \"Algorithm\", \"Class\", \"Convenience\", \"No. Objective(s)\", \"Constraints\", \"Description\"\n",
    "   :widths: 60, 10, 10, 10, 10, 100\n",
    "\n",
    "   :ref:`Genetic Algorithm <nb_ga>`, \"GA\", \"ga\", single, x, \"Very modular basic implementation of a genetic algorithms. Can be easily customizable with different evolutionary operators and is thus also applicable to any kind of variable type with the right setup.\"\n",
    "   :ref:`Differential Evolution <nb_de>`, \"DE\", \"de\", single, x, \"Different variants of differential evolution which is a well-known concept for in continuous optimization especially for global optimization.\"\n",
    "   :ref:`Biased Random Key Genetic Algorithm <nb_brkga>`, \"BRKGA\", \"brkga\", single, x, \"Mostly used for combinatorial optimization where instead of custom evolutionary operators the complexity is put into an advanced variable encoding.\"\n",
    "   :ref:`Nelder Mead <nb_nelder_mead>`, \"NelderMead\", \"nelder-mead\", single, x, \"A point-by-point based algorithm which keeps track of a simplex with is either extended, reflected or shrunk.\"\n",
    "   :ref:`Pattern Search <nb_pattern_search>`, \"PatternSearch\", \"pattern-search\", single, x, \"Iterative approach where the search direction is estimated by forming a specific exploration pattern around the current best solution.\"\n",
    "   :ref:`CMAES <nb_cmaes>`, \"CMAES\", \"cmaes\", single, , \"Well-known model-based algorithm sampling from a dynamically updated normal distribution in each iteration.\"\n",
    "   :ref:`NSGA-II <nb_nsga2>`, \"NSGA2\", \"nsga2\", multi, x, \"Well-known multi-objective optimization algorithm based on non-dominated sorting and crowding.\"\n",
    "   :ref:`R-NSGA-II <nb_rnsga2>`, \"RNSGA2\", \"rnsga2\", multi, x, \"An extension of NSGA-II where reference/aspiration points can be provided by the user.\"\n",
    "   :ref:`NSGA-III <nb_nsga3>`, \"NSGA3\", \"nsga3\", many, x, \"An improvement of NSGA-II developed for multi-objective optimization problems with more than two objectives.\"\n",
    "   :ref:`U-NSGA-III <nb_unsga3>`, \"UNSGA3\", \"unsga3\", many, x, \"A generalization of NSGA-III to be more efficient for single and bi-objective optimization problems.\"\n",
    "   :ref:`R-NSGA-III <nb_rnsga3>`, \"RNSGA3\", \"rnsga3\", many, x, \"Allows defining aspiration points for NSGA-III to incorporate the user's preference.\"\n",
    "   :ref:`MOEA\\D <nb_moead>`, \"MOEAD\", \"moead\", many, , \"Another well-known multi-objective optimization algorithm based on decomposition.\"\n",
    "   :ref:`C-TAEA <nb_ctaea>`, \"CTAEA\", \"ctaea\", many, x, \"An algorithm with a more sophisticated constraint-handling for many-objective optimization algoritms.\"\n",
    "   :ref:`AGE-MOEA <nb_agemoea>`, \"AGEMOEA\", \"agemoea\", many, x, \"Similar to NSGA-II but estimates the shape of the Pareto front to compute a score replacing the crowding distance.\""
   ]
  }
 ],
 "metadata": {
  "kernelspec": {
   "display_name": "Python 3",
   "language": "python",
   "name": "python3"
  },
  "language_info": {
   "codemirror_mode": {
    "name": "ipython",
    "version": 3
   },
   "file_extension": ".py",
   "mimetype": "text/x-python",
   "name": "python",
   "nbconvert_exporter": "python",
   "pygments_lexer": "ipython3",
   "version": "3.7.5"
  },
  "pycharm": {
   "stem_cell": {
    "cell_type": "raw",
    "metadata": {
     "collapsed": false
    },
    "source": []
   }
  }
 },
 "nbformat": 4,
 "nbformat_minor": 4
}
