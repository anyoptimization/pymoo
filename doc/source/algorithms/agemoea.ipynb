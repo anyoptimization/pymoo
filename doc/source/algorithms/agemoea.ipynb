{
 "cells": [
  {
   "cell_type": "raw",
   "metadata": {
    "raw_mimetype": "text/restructuredtext"
   },
   "source": [
    ".. _nb_agemoea:"
   ]
  },
  {
   "cell_type": "markdown",
   "metadata": {},
   "source": [
    ".. meta::\n",
    "   :description: An implementation of AGE-MOEA algorithm to solve many-objective optimization problems without using on reference directions. The algorithm estimates the shape of the Pareto front to provide a better way to compute proximity to ideal point and crowding distance compared to NSGA-II."
   ]
  },
  {
   "cell_type": "markdown",
   "metadata": {},
   "source": [
    ".. meta::\n",
    "   :keywords: AGEMOEA, NSGA-II, Non-Dominated Sorting, Multi-objective Optimization, Python"
   ]
  },
  {
   "cell_type": "markdown",
   "metadata": {},
   "source": [
    "# AGE-MOEA: Adaptive Geometry Estimation based MOEA"
   ]
  },
  {
   "cell_type": "markdown",
   "metadata": {},
   "source": [
    "This algorithm is based on <cite data-cite=\"agemoea\"></cite> and its matlab implementation of the PlatEMO library. The algorithm follows the general\n",
    "outline of [NSGA-II](./nsga2.ipynb) but with a modified crowding distance formula. In AGE-MOEA, fronts are sorted using the non-dominated sorting procedure. Then the first front is used for normalization of the objective space and estimation of Pareto front geometry. The `p` parameter of a Minkowski p-norm is estimated using the closest solution from the middle of the first front. The p-norm is then used to compute a survival score that combines distance from the neighbors and proximity to the ideal point."
   ]
  },
  {
   "cell_type": "markdown",
   "metadata": {},
   "source": [
    "As similarily done in NSGA-II, AGE-MOEA uses a binary tournament mating selection to increase some selection pressure. Each individual is first compared using the rank and then the computed score that represent both proximity and spread."
   ]
  },
  {
   "cell_type": "markdown",
   "metadata": {},
   "source": [
    "### Example"
   ]
  },
  {
   "cell_type": "code",
   "execution_count": 3,
   "metadata": {
    "code": "algorithms/usage_nsga2.py",
    "execution": {
     "iopub.execute_input": "2021-03-26T14:51:11.940451Z",
     "iopub.status.busy": "2021-03-26T14:51:11.938458Z",
     "iopub.status.idle": "2021-03-26T14:51:19.175655Z",
     "shell.execute_reply": "2021-03-26T14:51:19.176654Z"
    }
   },
   "outputs": [
    {
     "data": {
      "text/plain": [
       "<pymoo.visualization.scatter.Scatter at 0x19a70b01188>"
      ]
     },
     "execution_count": 3,
     "metadata": {},
     "output_type": "execute_result"
    },
    {
     "data": {
      "image/png": "[encoded data removed]",
      "text/plain": [
       "<Figure size 576x432 with 1 Axes>"
      ]
     },
     "metadata": {
      "needs_background": "light"
     },
     "output_type": "display_data"
    }
   ],
   "source": [
    "from pymoo.algorithms.age_moea import AGE_MOEA\n",
    "from pymoo.factory import get_problem\n",
    "from pymoo.optimize import minimize\n",
    "from pymoo.visualization.scatter import Scatter\n",
    "\n",
    "problem = get_problem(\"zdt1\")\n",
    "\n",
    "algorithm = AGE_MOEA(pop_size=100)\n",
    "\n",
    "res = minimize(problem,\n",
    "               algorithm,\n",
    "               ('n_gen', 200),\n",
    "               seed=1,\n",
    "               verbose=False)\n",
    "\n",
    "plot = Scatter()\n",
    "plot.add(problem.pareto_front(), plot_type=\"line\", color=\"black\", alpha=0.7)\n",
    "plot.add(res.F, color=\"red\")\n",
    "plot.show()\n"
   ]
  },
  {
   "cell_type": "markdown",
   "metadata": {},
   "source": [
    "Moreover, we can customize AGE-MOEA to solve a problem with binary decision variables, for example, ZDT5."
   ]
  },
  {
   "cell_type": "code",
   "execution_count": 4,
   "metadata": {
    "code": "algorithms/usage_nsga2_binary.py",
    "execution": {
     "iopub.execute_input": "2021-03-26T14:51:19.190930Z",
     "iopub.status.busy": "2021-03-26T14:51:19.189339Z",
     "iopub.status.idle": "2021-03-26T14:51:38.184378Z",
     "shell.execute_reply": "2021-03-26T14:51:38.186371Z"
    }
   },
   "outputs": [
    {
     "data": {
      "text/plain": [
       "<pymoo.visualization.scatter.Scatter at 0x19a732ebc48>"
      ]
     },
     "execution_count": 4,
     "metadata": {},
     "output_type": "execute_result"
    },
    {
     "data": {
      "image/png": "[encoded data removed]",
      "text/plain": [
       "<Figure size 576x432 with 1 Axes>"
      ]
     },
     "metadata": {
      "needs_background": "light"
     },
     "output_type": "display_data"
    }
   ],
   "source": [
    "from pymoo.algorithms.age_moea import AGE_MOEA\n",
    "from pymoo.factory import get_problem, get_sampling, get_crossover, get_mutation\n",
    "from pymoo.optimize import minimize\n",
    "from pymoo.visualization.scatter import Scatter\n",
    "\n",
    "problem = get_problem(\"zdt5\")\n",
    "\n",
    "algorithm = AGE_MOEA(pop_size=100,\n",
    "                     sampling=get_sampling(\"bin_random\"),\n",
    "                     crossover=get_crossover(\"bin_two_point\"),\n",
    "                     mutation=get_mutation(\"bin_bitflip\"),\n",
    "                     eliminate_duplicates=True)\n",
    "\n",
    "res = minimize(problem,\n",
    "               algorithm,\n",
    "               ('n_gen', 500),\n",
    "               seed=1,\n",
    "               verbose=False)\n",
    "\n",
    "\n",
    "Scatter().add(res.F).show()\n",
    "\n"
   ]
  },
  {
   "cell_type": "markdown",
   "metadata": {},
   "source": [
    "### API"
   ]
  },
  {
   "cell_type": "raw",
   "metadata": {
    "raw_mimetype": "text/restructuredtext"
   },
   "source": [
    ".. autoclass:: pymoo.algorithms.age_moea.AGE_MOEA\n",
    "    :noindex:"
   ]
  }
 ],
 "metadata": {
  "celltoolbar": "Raw Cell Format",
  "kernelspec": {
   "display_name": "Python 3",
   "language": "python",
   "name": "python3"
  },
  "language_info": {
   "codemirror_mode": {
    "name": "ipython",
    "version": 3
   },
   "file_extension": ".py",
   "mimetype": "text/x-python",
   "name": "python",
   "nbconvert_exporter": "python",
   "pygments_lexer": "ipython3",
   "version": "3.7.9"
  }
 },
 "nbformat": 4,
 "nbformat_minor": 4
}
